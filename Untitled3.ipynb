{
  "nbformat": 4,
  "nbformat_minor": 0,
  "metadata": {
    "colab": {
      "provenance": [],
      "authorship_tag": "ABX9TyP8E5dRRCybBM8IcgSHG88t",
      "include_colab_link": true
    },
    "kernelspec": {
      "name": "python3",
      "display_name": "Python 3"
    },
    "language_info": {
      "name": "python"
    }
  },
  "cells": [
    {
      "cell_type": "markdown",
      "metadata": {
        "id": "view-in-github",
        "colab_type": "text"
      },
      "source": [
        "<a href=\"https://colab.research.google.com/github/JulienVincendeau/test-digitalschool/blob/main/Untitled3.ipynb\" target=\"_parent\"><img src=\"https://colab.research.google.com/assets/colab-badge.svg\" alt=\"Open In Colab\"/></a>"
      ]
    },
    {
      "cell_type": "code",
      "execution_count": 215,
      "metadata": {
        "colab": {
          "base_uri": "https://localhost:8080/"
        },
        "id": "LfBdmmNMj4Fo",
        "outputId": "8c8269cb-bf3b-4607-b0c1-e5ee1a94b344"
      },
      "outputs": [
        {
          "output_type": "stream",
          "name": "stdout",
          "text": [
            "[\n",
            "    {\n",
            "        \"city\": \"Paris\",\n",
            "        \"timestamp\": 1743586361,\n",
            "        \"temperature\": 11.3,\n",
            "        \"humidity\": 56,\n",
            "        \"pressure\": 1016,\n",
            "        \"wind_speed\": 8.23,\n",
            "        \"wind_direction\": 60,\n",
            "        \"weather_description\": \"ciel dégagé\"\n",
            "    },\n",
            "    {\n",
            "        \"city\": \"Préfecture de Tokyo\",\n",
            "        \"timestamp\": 1743585776,\n",
            "        \"temperature\": 11.31,\n",
            "        \"humidity\": 81,\n",
            "        \"pressure\": 1016,\n",
            "        \"wind_speed\": 9.26,\n",
            "        \"wind_direction\": 50,\n",
            "        \"weather_description\": \"brume\"\n",
            "    },\n",
            "    {\n",
            "        \"city\": \"Londres\",\n",
            "        \"timestamp\": 1743585734,\n",
            "        \"temperature\": 12.4,\n",
            "        \"humidity\": 62,\n",
            "        \"pressure\": 1022,\n",
            "        \"wind_speed\": 8.75,\n",
            "        \"wind_direction\": 70,\n",
            "        \"weather_description\": \"ciel dégagé\"\n",
            "    },\n",
            "    {\n",
            "        \"city\": \"Berlin\",\n",
            "        \"timestamp\": 1743586473,\n",
            "        \"temperature\": 10.95,\n",
            "        \"humidity\": 71,\n",
            "        \"pressure\": 1028,\n",
            "        \"wind_speed\": 3.58,\n",
            "        \"wind_direction\": 32,\n",
            "        \"weather_description\": \"ciel dégagé\"\n",
            "    },\n",
            "    {\n",
            "        \"city\": \"Nairobi\",\n",
            "        \"timestamp\": 1743586022,\n",
            "        \"temperature\": 23.93,\n",
            "        \"humidity\": 50,\n",
            "        \"pressure\": 1012,\n",
            "        \"wind_speed\": 5.14,\n",
            "        \"wind_direction\": 90,\n",
            "        \"weather_description\": \"nuageux\"\n",
            "    },\n",
            "    {\n",
            "        \"city\": \"New Delhi\",\n",
            "        \"timestamp\": 1743585817,\n",
            "        \"temperature\": 35.09,\n",
            "        \"humidity\": 11,\n",
            "        \"pressure\": 1008,\n",
            "        \"wind_speed\": 4.12,\n",
            "        \"wind_direction\": 290,\n",
            "        \"weather_description\": \"brume sèche\"\n",
            "    },\n",
            "    {\n",
            "        \"city\": \"Ottawa\",\n",
            "        \"timestamp\": 1743585899,\n",
            "        \"temperature\": -6.35,\n",
            "        \"humidity\": 65,\n",
            "        \"pressure\": 1034,\n",
            "        \"wind_speed\": 3.29,\n",
            "        \"wind_direction\": 57,\n",
            "        \"weather_description\": \"couvert\"\n",
            "    },\n",
            "    {\n",
            "        \"city\": \"Brasilia\",\n",
            "        \"timestamp\": 1743585970,\n",
            "        \"temperature\": 17.48,\n",
            "        \"humidity\": 94,\n",
            "        \"pressure\": 1017,\n",
            "        \"wind_speed\": 1.03,\n",
            "        \"wind_direction\": 0,\n",
            "        \"weather_description\": \"ciel dégagé\"\n",
            "    },\n",
            "    {\n",
            "        \"city\": \"Canberra\",\n",
            "        \"timestamp\": 1743585915,\n",
            "        \"temperature\": 16.23,\n",
            "        \"humidity\": 55,\n",
            "        \"pressure\": 1008,\n",
            "        \"wind_speed\": 3.09,\n",
            "        \"wind_direction\": 360,\n",
            "        \"weather_description\": \"ciel dégagé\"\n",
            "    },\n",
            "    {\n",
            "        \"city\": \"Le Caire\",\n",
            "        \"timestamp\": 1743585971,\n",
            "        \"temperature\": 24.12,\n",
            "        \"humidity\": 23,\n",
            "        \"pressure\": 1014,\n",
            "        \"wind_speed\": 4.33,\n",
            "        \"wind_direction\": 257,\n",
            "        \"weather_description\": \"ciel dégagé\"\n",
            "    },\n",
            "    {\n",
            "        \"city\": \"Bangkok\",\n",
            "        \"timestamp\": 1743585846,\n",
            "        \"temperature\": 35.47,\n",
            "        \"humidity\": 44,\n",
            "        \"pressure\": 1007,\n",
            "        \"wind_speed\": 3.62,\n",
            "        \"wind_direction\": 80,\n",
            "        \"weather_description\": \"couvert\"\n",
            "    },\n",
            "    {\n",
            "        \"city\": \"Washington\",\n",
            "        \"timestamp\": 1743586023,\n",
            "        \"temperature\": 1.51,\n",
            "        \"humidity\": 74,\n",
            "        \"pressure\": 1008,\n",
            "        \"wind_speed\": 2.54,\n",
            "        \"wind_direction\": 277,\n",
            "        \"weather_description\": \"partiellement nuageux\"\n",
            "    }\n",
            "]\n",
            "[\n",
            "    {\n",
            "        \"city\": \"Paris\",\n",
            "        \"timestamp\": \"2025-04-02T08:00:00+02:00\",\n",
            "        \"aqi\": 38,\n",
            "        \"pm25\": 38,\n",
            "        \"pm10\": 22,\n",
            "        \"co\": 0.1,\n",
            "        \"no2\": 24.9,\n",
            "        \"so2\": 0.6,\n",
            "        \"o3\": 17.9\n",
            "    },\n",
            "    {\n",
            "        \"city\": \"Meguro (目黒)\",\n",
            "        \"timestamp\": \"2025-04-02T18:00:00+09:00\",\n",
            "        \"aqi\": 31,\n",
            "        \"pm25\": 1,\n",
            "        \"pm10\": 9,\n",
            "        \"co\": 4.5,\n",
            "        \"no2\": 20.4,\n",
            "        \"so2\": 1.5,\n",
            "        \"o3\": 31.2\n",
            "    },\n",
            "    {\n",
            "        \"city\": \"London\",\n",
            "        \"timestamp\": \"2025-04-02T08:00:00+01:00\",\n",
            "        \"aqi\": 47,\n",
            "        \"pm25\": 47,\n",
            "        \"pm10\": 17,\n",
            "        \"co\": 2.3,\n",
            "        \"no2\": 12.3,\n",
            "        \"so2\": 1.1,\n",
            "        \"o3\": 21.3\n",
            "    },\n",
            "    {\n",
            "        \"city\": \"Berlin, Germany\",\n",
            "        \"timestamp\": \"2025-04-02T11:00:00+02:00\",\n",
            "        \"aqi\": 68,\n",
            "        \"pm25\": 68,\n",
            "        \"pm10\": 26,\n",
            "        \"co\": 0.1,\n",
            "        \"no2\": 5.1,\n",
            "        \"so2\": \"N/A\",\n",
            "        \"o3\": 19.9\n",
            "    },\n",
            "    {\n",
            "        \"city\": \"Nairobi US Embassy, Kenya\",\n",
            "        \"timestamp\": \"2025-02-07T19:00:00+03:00\",\n",
            "        \"aqi\": 5,\n",
            "        \"pm25\": 5,\n",
            "        \"pm10\": \"N/A\",\n",
            "        \"co\": \"N/A\",\n",
            "        \"no2\": \"N/A\",\n",
            "        \"so2\": \"N/A\",\n",
            "        \"o3\": \"N/A\"\n",
            "    },\n",
            "    {\n",
            "        \"city\": \"Major Dhyan Chand National Stadium, Delhi, Delhi, India\",\n",
            "        \"timestamp\": \"2025-04-02T15:00:00+05:30\",\n",
            "        \"aqi\": 112,\n",
            "        \"pm25\": 112,\n",
            "        \"pm10\": 79,\n",
            "        \"co\": 4.1,\n",
            "        \"no2\": 9.2,\n",
            "        \"so2\": 5.3,\n",
            "        \"o3\": 73.9\n",
            "    },\n",
            "    {\n",
            "        \"city\": \"Ottawa\",\n",
            "        \"timestamp\": \"2025-04-02T05:00:00-05:00\",\n",
            "        \"aqi\": 26,\n",
            "        \"pm25\": 13,\n",
            "        \"pm10\": \"N/A\",\n",
            "        \"co\": 5,\n",
            "        \"no2\": 5.3,\n",
            "        \"so2\": 0.2,\n",
            "        \"o3\": 26.4\n",
            "    },\n",
            "    {\n",
            "        \"city\": \"Paulínia, São Paulo, Brazil\",\n",
            "        \"timestamp\": \"2025-04-02T05:00:00-03:00\",\n",
            "        \"aqi\": 22,\n",
            "        \"pm25\": \"N/A\",\n",
            "        \"pm10\": 22,\n",
            "        \"co\": \"N/A\",\n",
            "        \"no2\": 5.1,\n",
            "        \"so2\": 1.1,\n",
            "        \"o3\": 14.3\n",
            "    },\n",
            "    {\n",
            "        \"city\": \"Civic, Canberra\",\n",
            "        \"timestamp\": \"2025-04-02T19:00:00+11:00\",\n",
            "        \"aqi\": 7,\n",
            "        \"pm25\": \"N/A\",\n",
            "        \"pm10\": \"N/A\",\n",
            "        \"co\": \"N/A\",\n",
            "        \"no2\": \"N/A\",\n",
            "        \"so2\": \"N/A\",\n",
            "        \"o3\": 6.5\n",
            "    },\n",
            "    {\n",
            "        \"city\": \"Cairo US Embassy, Egypt\",\n",
            "        \"timestamp\": \"2025-03-04T13:00:00+02:00\",\n",
            "        \"aqi\": 57,\n",
            "        \"pm25\": 57,\n",
            "        \"pm10\": \"N/A\",\n",
            "        \"co\": \"N/A\",\n",
            "        \"no2\": \"N/A\",\n",
            "        \"so2\": \"N/A\",\n",
            "        \"o3\": \"N/A\"\n",
            "    },\n",
            "    {\n",
            "        \"city\": \"Bangkok\",\n",
            "        \"timestamp\": \"2025-04-02T16:00:00+07:00\",\n",
            "        \"aqi\": 112,\n",
            "        \"pm25\": 112,\n",
            "        \"pm10\": 52,\n",
            "        \"co\": 0.1,\n",
            "        \"no2\": 0.6,\n",
            "        \"so2\": 0.6,\n",
            "        \"o3\": 22.1\n",
            "    },\n",
            "    {\n",
            "        \"city\": \"Aurora Hills Visitor Center, Northern Virginia, USA\",\n",
            "        \"timestamp\": \"2025-04-02T03:00:00-04:00\",\n",
            "        \"aqi\": 17,\n",
            "        \"pm25\": 17,\n",
            "        \"pm10\": 6,\n",
            "        \"co\": 0.1,\n",
            "        \"no2\": 8.2,\n",
            "        \"so2\": 0.2,\n",
            "        \"o3\": 6.1\n",
            "    }\n",
            "]\n"
          ]
        }
      ],
      "source": [
        "import requests\n",
        "import json\n",
        "\n",
        "# Clés API (⚠️ Veillez à ne pas partager ce fichier publiquement !)\n",
        "WEATHER_API_KEY = \"fa328cd88b0933b1bdb3d91b77473ff3\"\n",
        "AIR_QUALITY_TOKEN = \"692110e399843a3a0a99149e1ffbad4bf56e35a7\"\n",
        "\n",
        "def get_weather_data(city, api_key):\n",
        "    \"\"\"Récupère les données météo pour une ville donnée.\"\"\"\n",
        "    url = f\"https://api.openweathermap.org/data/2.5/weather?q={city}&appid={api_key}&units=metric&lang=fr\"\n",
        "    try:\n",
        "        response = requests.get(url, timeout=5)\n",
        "        response.raise_for_status()\n",
        "        data = response.json()\n",
        "\n",
        "        return {\n",
        "            \"city\": data.get(\"name\", city),\n",
        "            \"timestamp\": data.get(\"dt\"),\n",
        "            \"temperature\": data[\"main\"].get(\"temp\", \"N/A\"),\n",
        "            \"humidity\": data[\"main\"].get(\"humidity\", \"N/A\"),\n",
        "            \"pressure\": data[\"main\"].get(\"pressure\", \"N/A\"),\n",
        "            \"wind_speed\": data[\"wind\"].get(\"speed\", \"N/A\"),\n",
        "            \"wind_direction\": data[\"wind\"].get(\"deg\", \"N/A\"),\n",
        "            \"weather_description\": data[\"weather\"][0].get(\"description\", \"N/A\") if \"weather\" in data else \"N/A\"\n",
        "        }\n",
        "    except requests.exceptions.RequestException as e:\n",
        "        return {\"error\": f\"Erreur lors de la récupération des données météo : {e}\"}\n",
        "\n",
        "def get_air_quality_data(city, api_token):\n",
        "    \"\"\"Récupère les données de qualité de l'air pour une ville donnée.\"\"\"\n",
        "    url = f\"https://api.waqi.info/feed/{city}/?token={api_token}\"\n",
        "    try:\n",
        "        response = requests.get(url, timeout=5)\n",
        "        response.raise_for_status()\n",
        "        data = response.json()\n",
        "\n",
        "        if \"data\" in data and \"city\" in data[\"data\"]:\n",
        "            return {\n",
        "                \"city\": data[\"data\"][\"city\"].get(\"name\", city),\n",
        "                \"timestamp\": data[\"data\"][\"time\"].get(\"iso\", \"N/A\"),\n",
        "                \"aqi\": data[\"data\"].get(\"aqi\", \"N/A\"),\n",
        "                \"pm25\": data[\"data\"][\"iaqi\"].get(\"pm25\", {}).get(\"v\", \"N/A\"),\n",
        "                \"pm10\": data[\"data\"][\"iaqi\"].get(\"pm10\", {}).get(\"v\", \"N/A\"),\n",
        "                \"co\": data[\"data\"][\"iaqi\"].get(\"co\", {}).get(\"v\", \"N/A\"),\n",
        "                \"no2\": data[\"data\"][\"iaqi\"].get(\"no2\", {}).get(\"v\", \"N/A\"),\n",
        "                \"so2\": data[\"data\"][\"iaqi\"].get(\"so2\", {}).get(\"v\", \"N/A\"),\n",
        "                \"o3\": data[\"data\"][\"iaqi\"].get(\"o3\", {}).get(\"v\", \"N/A\"),\n",
        "            }\n",
        "        else:\n",
        "            return {\"error\": f\"Les données de qualité de l'air ne sont pas disponibles pour {city}\"}\n",
        "    except requests.exceptions.RequestException as e:\n",
        "        return {\"error\": f\"Erreur lors de la récupération de la qualité de l'air : {e}\"}\n",
        "\n",
        "if __name__ == \"__main__\":\n",
        "    cities = [\"Paris\",  \"Tokyo\", \"London\", \"Berlin\",\"Nairobi\",\"New Delhi\",\"Ottawa\",\"Brasília\",\"Canberra\",\"Cairo\",\"Bangkok\",\"Washington\"]  # Liste des villes\n",
        "\n",
        "    result_weather = []\n",
        "    for city in cities:\n",
        "\n",
        "        weather_data = get_weather_data(city, WEATHER_API_KEY)\n",
        "        #air_quality_data = get_air_quality_data(city, AIR_QUALITY_TOKEN)\n",
        "        result_weather.append(weather_data)\n",
        "        #results.append({\n",
        "         #   \"city\": city,\n",
        "         #   \"weather\": weather_data,\n",
        "          #  \"air_quality\": air_quality_data\n",
        "        #})\n",
        "\n",
        "    print(json.dumps(result_weather, indent=4, ensure_ascii=False))\n",
        "\n",
        "    result_quality = []\n",
        "    for city in cities:\n",
        "\n",
        "        air_quality_data = get_air_quality_data(city, AIR_QUALITY_TOKEN)\n",
        "        #air_quality_data = get_air_quality_data(city, AIR_QUALITY_TOKEN)\n",
        "        result_quality.append(air_quality_data)\n",
        "        #results.append({\n",
        "         #   \"city\": city,\n",
        "         #   \"weather\": weather_data,\n",
        "          #  \"air_quality\": air_quality_data\n",
        "        #})\n",
        "\n",
        "    print(json.dumps(result_quality, indent=4, ensure_ascii=False))\n",
        "\n",
        "\n"
      ]
    },
    {
      "cell_type": "code",
      "source": [],
      "metadata": {
        "id": "9WjKarL6bcuW"
      },
      "execution_count": null,
      "outputs": []
    },
    {
      "cell_type": "code",
      "source": [
        "pip install findspark"
      ],
      "metadata": {
        "colab": {
          "base_uri": "https://localhost:8080/"
        },
        "id": "IbSwJ0wzk7Qb",
        "outputId": "120ceb97-4e86-4e6c-83f6-63187ef46130"
      },
      "execution_count": 216,
      "outputs": [
        {
          "output_type": "stream",
          "name": "stdout",
          "text": [
            "Requirement already satisfied: findspark in /usr/local/lib/python3.11/dist-packages (2.0.1)\n"
          ]
        }
      ]
    },
    {
      "cell_type": "code",
      "source": [
        "pip install pyspark"
      ],
      "metadata": {
        "colab": {
          "base_uri": "https://localhost:8080/"
        },
        "id": "Dgs5Yb9UkRJe",
        "outputId": "b727d1e6-9e4d-477b-ef87-175ab78d26e8"
      },
      "execution_count": 217,
      "outputs": [
        {
          "output_type": "stream",
          "name": "stdout",
          "text": [
            "Requirement already satisfied: pyspark in /usr/local/lib/python3.11/dist-packages (3.5.5)\n",
            "Requirement already satisfied: py4j==0.10.9.7 in /usr/local/lib/python3.11/dist-packages (from pyspark) (0.10.9.7)\n"
          ]
        }
      ]
    },
    {
      "cell_type": "code",
      "source": [
        "pip show pyspark"
      ],
      "metadata": {
        "colab": {
          "base_uri": "https://localhost:8080/"
        },
        "id": "TeLW9Qi1kf2K",
        "outputId": "0b7234d0-7aaf-401e-9eb5-3eefa1785af5"
      },
      "execution_count": 218,
      "outputs": [
        {
          "output_type": "stream",
          "name": "stdout",
          "text": [
            "Name: pyspark\n",
            "Version: 3.5.5\n",
            "Summary: Apache Spark Python API\n",
            "Home-page: https://github.com/apache/spark/tree/master/python\n",
            "Author: Spark Developers\n",
            "Author-email: dev@spark.apache.org\n",
            "License: http://www.apache.org/licenses/LICENSE-2.0\n",
            "Location: /usr/local/lib/python3.11/dist-packages\n",
            "Requires: py4j\n",
            "Required-by: google-spark-connect\n"
          ]
        }
      ]
    },
    {
      "cell_type": "code",
      "source": [
        "import findspark\n",
        "findspark.init()\n",
        "from pyspark.sql import SparkSession\n",
        "import os\n",
        "#os.environ[\"PYSPARK_PYTHON\"] = \"C:\\Users\\PC2\\anaconda3\\python.exe\"\n",
        "#os.environ[\"PYSPARK_DRIVER_PYTHON\"] = \"C:\\Users\\PC2\\anaconda3\\python.exe\"\n",
        "#création de la session spark\n",
        "spark = SparkSession.builder.appName('PySpark App').getOrCreate()"
      ],
      "metadata": {
        "id": "3erO3jB8kjFS"
      },
      "execution_count": 219,
      "outputs": []
    },
    {
      "cell_type": "code",
      "source": [
        "from pyspark.sql import SparkSession\n",
        "from pyspark.sql.functions import col, to_timestamp, round, expr, when\n",
        "\n",
        "\n",
        "\n",
        "# Chargement du fichier JSON\n",
        "df_quality = spark.read.option(\"multiline\", \"true\").json('/content/air_quality_data2.json')\n",
        "\n",
        "# Affichage des 7 premières lignes"
      ],
      "metadata": {
        "id": "BYXQAhv7lzKI"
      },
      "execution_count": 231,
      "outputs": []
    },
    {
      "cell_type": "code",
      "source": [
        "df_quality.show(\n",
        "\n",
        ")"
      ],
      "metadata": {
        "colab": {
          "base_uri": "https://localhost:8080/"
        },
        "id": "BGikbRNxl3a-",
        "outputId": "22bb0cc8-f74e-46fd-a57b-6cdf4d9d8bb4"
      },
      "execution_count": 232,
      "outputs": [
        {
          "output_type": "stream",
          "name": "stdout",
          "text": [
            "+---+---------------+---+----+----+----+----+---+--------------------+\n",
            "|aqi|           city| co| no2|  o3|pm10|pm25|so2|           timestamp|\n",
            "+---+---------------+---+----+----+----+----+---+--------------------+\n",
            "| 33|          Paris|0.1|  24|19.3|  12|  33|0.6|2025-04-02T06:00:...|\n",
            "| 15|       New York|N/A| N/A| N/A| N/A|  15|N/A|2025-04-02T01:00:...|\n",
            "| 25|  Meguro (目黒)|4.5|20.4|24.8|   7|   1|1.5|2025-04-02T16:00:...|\n",
            "| 53|         London|2.2|13.7|18.2|  19|  53|0.9|2025-04-02T07:00:...|\n",
            "| 63|Berlin, Germany|0.1| 8.7|15.1|  21|  63|N/A|2025-04-02T09:00:...|\n",
            "+---+---------------+---+----+----+----+----+---+--------------------+\n",
            "\n"
          ]
        }
      ]
    },
    {
      "cell_type": "code",
      "source": [
        "from pyspark.sql import SparkSession\n",
        "from pyspark.sql.functions import col, to_timestamp, round, expr, when\n",
        "\n",
        "\n",
        "\n",
        "# Chargement du fichier JSON\n",
        "df_weather = spark.read.option(\"multiline\", \"true\").json('/content/weather_api_key.json')\n",
        "\n",
        "# Affichage des 7 premières lignes\n"
      ],
      "metadata": {
        "id": "BGK3QuZVmLq1"
      },
      "execution_count": 222,
      "outputs": []
    },
    {
      "cell_type": "code",
      "source": [
        "df_weather.show()"
      ],
      "metadata": {
        "colab": {
          "base_uri": "https://localhost:8080/"
        },
        "id": "lM1AvpHbmUUG",
        "outputId": "b9d62115-c797-405c-d7cd-122d53715e1e"
      },
      "execution_count": 223,
      "outputs": [
        {
          "output_type": "stream",
          "name": "stdout",
          "text": [
            "+-------------------+--------+--------+-----------+----------+--------------------+--------------+----------+\n",
            "|               city|humidity|pressure|temperature| timestamp| weather_description|wind_direction|wind_speed|\n",
            "+-------------------+--------+--------+-----------+----------+--------------------+--------------+----------+\n",
            "|              Paris|      58|    1017|      10.04|1743582779|         ciel dégagé|            70|      8.23|\n",
            "|Préfecture de Tokyo|      81|    1016|      11.36|1743583101|               brume|            40|      8.75|\n",
            "|            Londres|      67|    1023|       11.3|1743583091|         ciel dégagé|            70|      7.72|\n",
            "|             Berlin|      70|    1029|       8.77|1743582975|             nuageux|            50|      4.63|\n",
            "|            Nairobi|      57|    1012|      23.93|1743583228|             nuageux|            30|      3.09|\n",
            "|          New Delhi|      11|    1008|      35.09|1743583228|         brume sèche|           280|      3.09|\n",
            "|             Ottawa|      64|    1034|      -6.27|1743583187|partiellement nua...|            30|      3.09|\n",
            "|           Brasilia|      89|    1016|      18.48|1743583158|         ciel dégagé|           290|      1.54|\n",
            "|           Canberra|      49|    1008|       17.4|1743583145|         ciel dégagé|           350|      4.63|\n",
            "|           Le Caire|      23|    1014|      24.42|1743583228|         ciel dégagé|           270|      4.12|\n",
            "|            Bangkok|      43|    1007|      36.06|1743582941|             couvert|            80|      3.62|\n",
            "|         Washington|      70|    1010|       1.95|1743582941|partiellement nua...|           277|      2.54|\n",
            "+-------------------+--------+--------+-----------+----------+--------------------+--------------+----------+\n",
            "\n"
          ]
        }
      ]
    },
    {
      "cell_type": "code",
      "source": [
        "from pyspark.sql import SparkSession\n",
        "from pyspark.sql.functions import col, when\n",
        "\n",
        "\n",
        "\n",
        "# Liste des villes en anglais\n",
        "cities = [\"Paris\",  \"Tokyo\", \"London\", \"Berlin\", \"Nairobi\", \"New Delhi\", \"Ottawa\", \"Brasília\", \"Canberra\", \"Cairo\", \"Bangkok\", \"Washington\"]\n",
        "\n",
        "# Dictionnaire de correspondance anglais -> français pour les villes spécifiées\n",
        "city_translation = {\n",
        "    \"Paris\": \"Paris\",\n",
        "    \"Préfecture de Tokyo\": \"Tokyo\",\n",
        "    \"London\": \"Londres\",\n",
        "    \"Berlin, Germany\": \"Berlin\",\n",
        "    \"Nairobi\": \"Nairobi\",\n",
        "    \"New Delhi\": \"New Delhi\",\n",
        "    \"Ottawa\": \"Ottawa\",\n",
        "    \"Brasília\": \"Brasília\",\n",
        "    \"Canberra\": \"Canberra\",\n",
        "    \"Cairo\": \"Le Caire\",\n",
        "    \"Bangkok\": \"Bangkok\",\n",
        "    \"Washington\": \"Washington\"\n",
        "}\n",
        "\n",
        "# Fonction pour renommer les villes dans un DataFrame\n",
        "def rename_cities(df, city_translation):\n",
        "    for city_english, city_french in city_translation.items():\n",
        "        df = df.withColumn(\"city\", when(col(\"city\") == city_english, city_french).otherwise(col(\"city\")))\n",
        "    return df\n",
        "\n",
        "# Appliquer la fonction de renommage aux deux DataFrames\n",
        "df_quality = rename_cities(df_quality, city_translation)\n",
        "df_weather = rename_cities(df_weather, city_translation)\n",
        "\n"
      ],
      "metadata": {
        "id": "XNxvk-vb19mr"
      },
      "execution_count": 233,
      "outputs": []
    },
    {
      "cell_type": "code",
      "source": [
        "# Affichage des résultats après nettoyage\n",
        "df_quality.show()\n",
        "df_weather.show()"
      ],
      "metadata": {
        "colab": {
          "base_uri": "https://localhost:8080/"
        },
        "id": "r2MCOVnatahe",
        "outputId": "04483c8b-e627-4840-b30b-1c0bcfa04d00"
      },
      "execution_count": 234,
      "outputs": [
        {
          "output_type": "stream",
          "name": "stdout",
          "text": [
            "+---+-------------+---+----+----+----+----+---+--------------------+\n",
            "|aqi|         city| co| no2|  o3|pm10|pm25|so2|           timestamp|\n",
            "+---+-------------+---+----+----+----+----+---+--------------------+\n",
            "| 33|        Paris|0.1|  24|19.3|  12|  33|0.6|2025-04-02T06:00:...|\n",
            "| 15|     New York|N/A| N/A| N/A| N/A|  15|N/A|2025-04-02T01:00:...|\n",
            "| 25|Meguro (目黒)|4.5|20.4|24.8|   7|   1|1.5|2025-04-02T16:00:...|\n",
            "| 53|      Londres|2.2|13.7|18.2|  19|  53|0.9|2025-04-02T07:00:...|\n",
            "| 63|       Berlin|0.1| 8.7|15.1|  21|  63|N/A|2025-04-02T09:00:...|\n",
            "+---+-------------+---+----+----+----+----+---+--------------------+\n",
            "\n",
            "+------------------+--------+--------+-----------+----------+--------------------+--------------+----------+-------------------+\n",
            "|              city|humidity|pressure|temperature| timestamp| weather_description|wind_direction|wind_speed|      temperature_c|\n",
            "+------------------+--------+--------+-----------+----------+--------------------+--------------+----------+-------------------+\n",
            "|             paris|      58|    1017|      10.04|1743582779|         ciel dégagé|            70|      8.23|-263.10999999999996|\n",
            "|prfecture de tokyo|      81|    1016|      11.36|1743583101|               brume|            40|      8.75|-261.78999999999996|\n",
            "|           londres|      67|    1023|       11.3|1743583091|         ciel dégagé|            70|      7.72|-261.84999999999997|\n",
            "|            berlin|      70|    1029|       8.77|1743582975|             nuageux|            50|      4.63|            -264.38|\n",
            "|           nairobi|      57|    1012|      23.93|1743583228|             nuageux|            30|      3.09|-249.21999999999997|\n",
            "|         new delhi|      11|    1008|      35.09|1743583228|         brume sèche|           280|      3.09|-238.05999999999997|\n",
            "|            ottawa|      64|    1034|      -6.27|1743583187|partiellement nua...|            30|      3.09|-279.41999999999996|\n",
            "|          brasilia|      89|    1016|      18.48|1743583158|         ciel dégagé|           290|      1.54|            -254.67|\n",
            "|          canberra|      49|    1008|       17.4|1743583145|         ciel dégagé|           350|      4.63|-255.74999999999997|\n",
            "|          le caire|      23|    1014|      24.42|1743583228|         ciel dégagé|           270|      4.12|-248.72999999999996|\n",
            "|           bangkok|      43|    1007|      36.06|1743582941|             couvert|            80|      3.62|-237.08999999999997|\n",
            "|        washington|      70|    1010|       1.95|1743582941|partiellement nua...|           277|      2.54|             -271.2|\n",
            "+------------------+--------+--------+-----------+----------+--------------------+--------------+----------+-------------------+\n",
            "\n"
          ]
        }
      ]
    },
    {
      "cell_type": "code",
      "source": [
        "df_quality.printSchema()\n"
      ],
      "metadata": {
        "colab": {
          "base_uri": "https://localhost:8080/"
        },
        "id": "vUu8nF3nscYd",
        "outputId": "582cc070-c05f-4e84-9dec-d2146f5cba7a"
      },
      "execution_count": null,
      "outputs": [
        {
          "output_type": "stream",
          "name": "stdout",
          "text": [
            "root\n",
            " |-- aqi: long (nullable = true)\n",
            " |-- city: string (nullable = true)\n",
            " |-- co: string (nullable = true)\n",
            " |-- no2: string (nullable = true)\n",
            " |-- o3: string (nullable = true)\n",
            " |-- pm10: string (nullable = true)\n",
            " |-- pm25: long (nullable = true)\n",
            " |-- so2: string (nullable = true)\n",
            " |-- timestamp: string (nullable = true)\n",
            "\n"
          ]
        }
      ]
    },
    {
      "cell_type": "code",
      "source": [
        "\n",
        "\n",
        "\n"
      ],
      "metadata": {
        "colab": {
          "base_uri": "https://localhost:8080/",
          "height": 624
        },
        "id": "tsSmUnS6r96P",
        "outputId": "934f41ac-1032-4771-e562-880e69acf32b"
      },
      "execution_count": null,
      "outputs": [
        {
          "output_type": "error",
          "ename": "AnalysisException",
          "evalue": "[UNRESOLVED_COLUMN.WITH_SUGGESTION] A column or function parameter with name `data`.`city`.`name` cannot be resolved. Did you mean one of the following? [`city`, `timestamp`, `aqi`, `co`, `no2`].;\n'Project ['data.city.name AS city#887, 'data.time.iso AS timestamp#888, 'data.aqi AS aqi#889, 'data.iaqi.pm25.v AS pm25#890, 'data.iaqi.pm10.v AS pm10#891, 'data.iaqi.co.v AS co#892, 'data.iaqi.no2.v AS no2#893, 'data.iaqi.so2.v AS so2#894, 'data.iaqi.o3.v AS o3#895]\n+- Project [aqi#735L, city#736, co#737, no2#738, o3#739, pm10#740, pm25#741L, so2#742, cast(to_timestamp(timestamp#743, None, TimestampType, Some(Etc/UTC), false) as timestamp) AS timestamp#868]\n   +- Relation [aqi#735L,city#736,co#737,no2#738,o3#739,pm10#740,pm25#741L,so2#742,timestamp#743] json\n",
          "traceback": [
            "\u001b[0;31m---------------------------------------------------------------------------\u001b[0m",
            "\u001b[0;31mAnalysisException\u001b[0m                         Traceback (most recent call last)",
            "\u001b[0;32m<ipython-input-143-f615ef9f466f>\u001b[0m in \u001b[0;36m<cell line: 0>\u001b[0;34m()\u001b[0m\n\u001b[1;32m      2\u001b[0m \u001b[0;34m\u001b[0m\u001b[0m\n\u001b[1;32m      3\u001b[0m \u001b[0;31m# Renommer les colonnes en tenant compte de la structure imbriquée\u001b[0m\u001b[0;34m\u001b[0m\u001b[0;34m\u001b[0m\u001b[0m\n\u001b[0;32m----> 4\u001b[0;31m df_quality_cleaned = df_quality_cleaned.select(\n\u001b[0m\u001b[1;32m      5\u001b[0m     \u001b[0mcol\u001b[0m\u001b[0;34m(\u001b[0m\u001b[0;34m\"data.city.name\"\u001b[0m\u001b[0;34m)\u001b[0m\u001b[0;34m.\u001b[0m\u001b[0malias\u001b[0m\u001b[0;34m(\u001b[0m\u001b[0;34m\"city\"\u001b[0m\u001b[0;34m)\u001b[0m\u001b[0;34m,\u001b[0m\u001b[0;34m\u001b[0m\u001b[0;34m\u001b[0m\u001b[0m\n\u001b[1;32m      6\u001b[0m     \u001b[0mcol\u001b[0m\u001b[0;34m(\u001b[0m\u001b[0;34m\"data.time.iso\"\u001b[0m\u001b[0;34m)\u001b[0m\u001b[0;34m.\u001b[0m\u001b[0malias\u001b[0m\u001b[0;34m(\u001b[0m\u001b[0;34m\"timestamp\"\u001b[0m\u001b[0;34m)\u001b[0m\u001b[0;34m,\u001b[0m\u001b[0;34m\u001b[0m\u001b[0;34m\u001b[0m\u001b[0m\n",
            "\u001b[0;32m/usr/local/lib/python3.11/dist-packages/pyspark/sql/dataframe.py\u001b[0m in \u001b[0;36mselect\u001b[0;34m(self, *cols)\u001b[0m\n\u001b[1;32m   3227\u001b[0m         \u001b[0;34m+\u001b[0m\u001b[0;34m-\u001b[0m\u001b[0;34m-\u001b[0m\u001b[0;34m-\u001b[0m\u001b[0;34m-\u001b[0m\u001b[0;34m-\u001b[0m\u001b[0;34m+\u001b[0m\u001b[0;34m-\u001b[0m\u001b[0;34m-\u001b[0m\u001b[0;34m-\u001b[0m\u001b[0;34m+\u001b[0m\u001b[0;34m\u001b[0m\u001b[0;34m\u001b[0m\u001b[0m\n\u001b[1;32m   3228\u001b[0m         \"\"\"\n\u001b[0;32m-> 3229\u001b[0;31m         \u001b[0mjdf\u001b[0m \u001b[0;34m=\u001b[0m \u001b[0mself\u001b[0m\u001b[0;34m.\u001b[0m\u001b[0m_jdf\u001b[0m\u001b[0;34m.\u001b[0m\u001b[0mselect\u001b[0m\u001b[0;34m(\u001b[0m\u001b[0mself\u001b[0m\u001b[0;34m.\u001b[0m\u001b[0m_jcols\u001b[0m\u001b[0;34m(\u001b[0m\u001b[0;34m*\u001b[0m\u001b[0mcols\u001b[0m\u001b[0;34m)\u001b[0m\u001b[0;34m)\u001b[0m\u001b[0;34m\u001b[0m\u001b[0;34m\u001b[0m\u001b[0m\n\u001b[0m\u001b[1;32m   3230\u001b[0m         \u001b[0;32mreturn\u001b[0m \u001b[0mDataFrame\u001b[0m\u001b[0;34m(\u001b[0m\u001b[0mjdf\u001b[0m\u001b[0;34m,\u001b[0m \u001b[0mself\u001b[0m\u001b[0;34m.\u001b[0m\u001b[0msparkSession\u001b[0m\u001b[0;34m)\u001b[0m\u001b[0;34m\u001b[0m\u001b[0;34m\u001b[0m\u001b[0m\n\u001b[1;32m   3231\u001b[0m \u001b[0;34m\u001b[0m\u001b[0m\n",
            "\u001b[0;32m/usr/local/lib/python3.11/dist-packages/py4j/java_gateway.py\u001b[0m in \u001b[0;36m__call__\u001b[0;34m(self, *args)\u001b[0m\n\u001b[1;32m   1320\u001b[0m \u001b[0;34m\u001b[0m\u001b[0m\n\u001b[1;32m   1321\u001b[0m         \u001b[0manswer\u001b[0m \u001b[0;34m=\u001b[0m \u001b[0mself\u001b[0m\u001b[0;34m.\u001b[0m\u001b[0mgateway_client\u001b[0m\u001b[0;34m.\u001b[0m\u001b[0msend_command\u001b[0m\u001b[0;34m(\u001b[0m\u001b[0mcommand\u001b[0m\u001b[0;34m)\u001b[0m\u001b[0;34m\u001b[0m\u001b[0;34m\u001b[0m\u001b[0m\n\u001b[0;32m-> 1322\u001b[0;31m         return_value = get_return_value(\n\u001b[0m\u001b[1;32m   1323\u001b[0m             answer, self.gateway_client, self.target_id, self.name)\n\u001b[1;32m   1324\u001b[0m \u001b[0;34m\u001b[0m\u001b[0m\n",
            "\u001b[0;32m/usr/local/lib/python3.11/dist-packages/pyspark/errors/exceptions/captured.py\u001b[0m in \u001b[0;36mdeco\u001b[0;34m(*a, **kw)\u001b[0m\n\u001b[1;32m    183\u001b[0m                 \u001b[0;31m# Hide where the exception came from that shows a non-Pythonic\u001b[0m\u001b[0;34m\u001b[0m\u001b[0;34m\u001b[0m\u001b[0m\n\u001b[1;32m    184\u001b[0m                 \u001b[0;31m# JVM exception message.\u001b[0m\u001b[0;34m\u001b[0m\u001b[0;34m\u001b[0m\u001b[0m\n\u001b[0;32m--> 185\u001b[0;31m                 \u001b[0;32mraise\u001b[0m \u001b[0mconverted\u001b[0m \u001b[0;32mfrom\u001b[0m \u001b[0;32mNone\u001b[0m\u001b[0;34m\u001b[0m\u001b[0;34m\u001b[0m\u001b[0m\n\u001b[0m\u001b[1;32m    186\u001b[0m             \u001b[0;32melse\u001b[0m\u001b[0;34m:\u001b[0m\u001b[0;34m\u001b[0m\u001b[0;34m\u001b[0m\u001b[0m\n\u001b[1;32m    187\u001b[0m                 \u001b[0;32mraise\u001b[0m\u001b[0;34m\u001b[0m\u001b[0;34m\u001b[0m\u001b[0m\n",
            "\u001b[0;31mAnalysisException\u001b[0m: [UNRESOLVED_COLUMN.WITH_SUGGESTION] A column or function parameter with name `data`.`city`.`name` cannot be resolved. Did you mean one of the following? [`city`, `timestamp`, `aqi`, `co`, `no2`].;\n'Project ['data.city.name AS city#887, 'data.time.iso AS timestamp#888, 'data.aqi AS aqi#889, 'data.iaqi.pm25.v AS pm25#890, 'data.iaqi.pm10.v AS pm10#891, 'data.iaqi.co.v AS co#892, 'data.iaqi.no2.v AS no2#893, 'data.iaqi.so2.v AS so2#894, 'data.iaqi.o3.v AS o3#895]\n+- Project [aqi#735L, city#736, co#737, no2#738, o3#739, pm10#740, pm25#741L, so2#742, cast(to_timestamp(timestamp#743, None, TimestampType, Some(Etc/UTC), false) as timestamp) AS timestamp#868]\n   +- Relation [aqi#735L,city#736,co#737,no2#738,o3#739,pm10#740,pm25#741L,so2#742,timestamp#743] json\n"
          ]
        }
      ]
    },
    {
      "cell_type": "code",
      "source": [
        "df_quality.columns"
      ],
      "metadata": {
        "colab": {
          "base_uri": "https://localhost:8080/"
        },
        "id": "YhsWE5wEf8oH",
        "outputId": "d1afff7f-95b8-4830-de08-f52055141c09"
      },
      "execution_count": null,
      "outputs": [
        {
          "output_type": "execute_result",
          "data": {
            "text/plain": [
              "['aqi', 'city', 'co', 'no2', 'o3', 'pm10', 'pm25', 'so2', 'timestamp']"
            ]
          },
          "metadata": {},
          "execution_count": 140
        }
      ]
    },
    {
      "cell_type": "code",
      "source": [
        "from pyspark.sql import SparkSession\n",
        "from pyspark.sql.functions import col, to_timestamp, round\n",
        "\n",
        "# Sélection et renommage des colonnes utiles\n",
        "df = df_quality.select(\n",
        "    col(\"city\").alias(\"city\"),\n",
        "    to_timestamp(col(\"timestamp\")).alias(\"timestamp\"),\n",
        "    col(\"aqi\").alias(\"aqi\"),\n",
        "    col(\"pm25\").alias(\"pm25\"),\n",
        "    col(\"pm10\").alias(\"pm10\"),\n",
        "    col(\"co\").alias(\"co\"),\n",
        "    col(\"no2\").alias(\"no2\"),\n",
        "    col(\"so2\").alias(\"so2\"),\n",
        "    col(\"o3\").alias(\"o3\")\n",
        ")\n"
      ],
      "metadata": {
        "id": "Ay7KIlNutRbJ"
      },
      "execution_count": 235,
      "outputs": []
    },
    {
      "cell_type": "code",
      "source": [
        "# Conversion de la température de Kelvin à Celsius (exemple sur une colonne 'temperature')\n",
        "df_weather = df_weather.withColumn(\n",
        "    \"temperature_c\", col(\"temperature\") - 273.15\n",
        ")\n",
        "\n",
        "# Affichage pour vérifier la transformation\n",
        "df_weather.select(\"temperature\", \"temperature_c\").show(7)\n"
      ],
      "metadata": {
        "colab": {
          "base_uri": "https://localhost:8080/"
        },
        "id": "rRuNnZDIsuni",
        "outputId": "07856d79-e7ec-444e-9716-0b23088141b5"
      },
      "execution_count": 236,
      "outputs": [
        {
          "output_type": "stream",
          "name": "stdout",
          "text": [
            "+-----------+-------------------+\n",
            "|temperature|      temperature_c|\n",
            "+-----------+-------------------+\n",
            "|      10.04|-263.10999999999996|\n",
            "|      11.36|-261.78999999999996|\n",
            "|       11.3|-261.84999999999997|\n",
            "|       8.77|            -264.38|\n",
            "|      23.93|-249.21999999999997|\n",
            "|      35.09|-238.05999999999997|\n",
            "|      -6.27|-279.41999999999996|\n",
            "+-----------+-------------------+\n",
            "only showing top 7 rows\n",
            "\n"
          ]
        }
      ]
    },
    {
      "cell_type": "code",
      "source": [
        "df_quality.printSchema()\n"
      ],
      "metadata": {
        "colab": {
          "base_uri": "https://localhost:8080/"
        },
        "id": "Y8RXBw0NtKNP",
        "outputId": "717b065e-e1fc-407a-ff23-336d2f03c60b"
      },
      "execution_count": null,
      "outputs": [
        {
          "output_type": "stream",
          "name": "stdout",
          "text": [
            "root\n",
            " |-- aqi: long (nullable = true)\n",
            " |-- city: string (nullable = true)\n",
            " |-- co: string (nullable = true)\n",
            " |-- no2: string (nullable = true)\n",
            " |-- o3: string (nullable = true)\n",
            " |-- pm10: string (nullable = true)\n",
            " |-- pm25: long (nullable = true)\n",
            " |-- so2: string (nullable = true)\n",
            " |-- timestamp: string (nullable = true)\n",
            "\n"
          ]
        }
      ]
    },
    {
      "cell_type": "code",
      "source": [
        "\n",
        "\n"
      ],
      "metadata": {
        "colab": {
          "base_uri": "https://localhost:8080/",
          "height": 698
        },
        "id": "W1R0llOKsynq",
        "outputId": "e2a3eeb8-22db-4569-a991-ac6c60d6d5d8"
      },
      "execution_count": null,
      "outputs": [
        {
          "output_type": "error",
          "ename": "AnalysisException",
          "evalue": "[UNRESOLVED_COLUMN.WITH_SUGGESTION] A column or function parameter with name `aqi` cannot be resolved. Did you mean one of the following? [`city`, `humidity`, `pressure`, `timestamp`, `wind_speed`].;\n'Project [city#800, humidity#801L, pressure#802L, temperature#803, timestamp#804L, weather_description#805, wind_direction#806L, wind_speed#807, temperature_c#1038, CASE WHEN (((('aqi > 100) OR ('pm25 > 50)) OR ('pm10 > 80)) OR (temperature_c#1038 > cast(35 as double))) THEN true ELSE false END AS alert#1060]\n+- Project [city#800, humidity#801L, pressure#802L, temperature#803, timestamp#804L, weather_description#805, wind_direction#806L, wind_speed#807, (temperature#803 - 273.15) AS temperature_c#1038]\n   +- Project [city#800, humidity#801L, pressure#802L, temperature#803, timestamp#804L, weather_description#805, wind_direction#806L, wind_speed#807, (temperature#803 - 273.15) AS temperature_c#914]\n      +- Relation [city#800,humidity#801L,pressure#802L,temperature#803,timestamp#804L,weather_description#805,wind_direction#806L,wind_speed#807] json\n",
          "traceback": [
            "\u001b[0;31m---------------------------------------------------------------------------\u001b[0m",
            "\u001b[0;31mAnalysisException\u001b[0m                         Traceback (most recent call last)",
            "\u001b[0;32m<ipython-input-161-5215022b9fb3>\u001b[0m in \u001b[0;36m<cell line: 0>\u001b[0;34m()\u001b[0m\n\u001b[1;32m      3\u001b[0m \u001b[0;34m\u001b[0m\u001b[0m\n\u001b[1;32m      4\u001b[0m \u001b[0;31m# Assurer que les colonnes nécessaires existent\u001b[0m\u001b[0;34m\u001b[0m\u001b[0;34m\u001b[0m\u001b[0m\n\u001b[0;32m----> 5\u001b[0;31m df_weather = df_weather.withColumn(\n\u001b[0m\u001b[1;32m      6\u001b[0m     \u001b[0;34m\"alert\"\u001b[0m\u001b[0;34m,\u001b[0m\u001b[0;34m\u001b[0m\u001b[0;34m\u001b[0m\u001b[0m\n\u001b[1;32m      7\u001b[0m     when(\n",
            "\u001b[0;32m/usr/local/lib/python3.11/dist-packages/pyspark/sql/dataframe.py\u001b[0m in \u001b[0;36mwithColumn\u001b[0;34m(self, colName, col)\u001b[0m\n\u001b[1;32m   5174\u001b[0m                 \u001b[0mmessage_parameters\u001b[0m\u001b[0;34m=\u001b[0m\u001b[0;34m{\u001b[0m\u001b[0;34m\"arg_name\"\u001b[0m\u001b[0;34m:\u001b[0m \u001b[0;34m\"col\"\u001b[0m\u001b[0;34m,\u001b[0m \u001b[0;34m\"arg_type\"\u001b[0m\u001b[0;34m:\u001b[0m \u001b[0mtype\u001b[0m\u001b[0;34m(\u001b[0m\u001b[0mcol\u001b[0m\u001b[0;34m)\u001b[0m\u001b[0;34m.\u001b[0m\u001b[0m__name__\u001b[0m\u001b[0;34m}\u001b[0m\u001b[0;34m,\u001b[0m\u001b[0;34m\u001b[0m\u001b[0;34m\u001b[0m\u001b[0m\n\u001b[1;32m   5175\u001b[0m             )\n\u001b[0;32m-> 5176\u001b[0;31m         \u001b[0;32mreturn\u001b[0m \u001b[0mDataFrame\u001b[0m\u001b[0;34m(\u001b[0m\u001b[0mself\u001b[0m\u001b[0;34m.\u001b[0m\u001b[0m_jdf\u001b[0m\u001b[0;34m.\u001b[0m\u001b[0mwithColumn\u001b[0m\u001b[0;34m(\u001b[0m\u001b[0mcolName\u001b[0m\u001b[0;34m,\u001b[0m \u001b[0mcol\u001b[0m\u001b[0;34m.\u001b[0m\u001b[0m_jc\u001b[0m\u001b[0;34m)\u001b[0m\u001b[0;34m,\u001b[0m \u001b[0mself\u001b[0m\u001b[0;34m.\u001b[0m\u001b[0msparkSession\u001b[0m\u001b[0;34m)\u001b[0m\u001b[0;34m\u001b[0m\u001b[0;34m\u001b[0m\u001b[0m\n\u001b[0m\u001b[1;32m   5177\u001b[0m \u001b[0;34m\u001b[0m\u001b[0m\n\u001b[1;32m   5178\u001b[0m     \u001b[0;32mdef\u001b[0m \u001b[0mwithColumnRenamed\u001b[0m\u001b[0;34m(\u001b[0m\u001b[0mself\u001b[0m\u001b[0;34m,\u001b[0m \u001b[0mexisting\u001b[0m\u001b[0;34m:\u001b[0m \u001b[0mstr\u001b[0m\u001b[0;34m,\u001b[0m \u001b[0mnew\u001b[0m\u001b[0;34m:\u001b[0m \u001b[0mstr\u001b[0m\u001b[0;34m)\u001b[0m \u001b[0;34m->\u001b[0m \u001b[0;34m\"DataFrame\"\u001b[0m\u001b[0;34m:\u001b[0m\u001b[0;34m\u001b[0m\u001b[0;34m\u001b[0m\u001b[0m\n",
            "\u001b[0;32m/usr/local/lib/python3.11/dist-packages/py4j/java_gateway.py\u001b[0m in \u001b[0;36m__call__\u001b[0;34m(self, *args)\u001b[0m\n\u001b[1;32m   1320\u001b[0m \u001b[0;34m\u001b[0m\u001b[0m\n\u001b[1;32m   1321\u001b[0m         \u001b[0manswer\u001b[0m \u001b[0;34m=\u001b[0m \u001b[0mself\u001b[0m\u001b[0;34m.\u001b[0m\u001b[0mgateway_client\u001b[0m\u001b[0;34m.\u001b[0m\u001b[0msend_command\u001b[0m\u001b[0;34m(\u001b[0m\u001b[0mcommand\u001b[0m\u001b[0;34m)\u001b[0m\u001b[0;34m\u001b[0m\u001b[0;34m\u001b[0m\u001b[0m\n\u001b[0;32m-> 1322\u001b[0;31m         return_value = get_return_value(\n\u001b[0m\u001b[1;32m   1323\u001b[0m             answer, self.gateway_client, self.target_id, self.name)\n\u001b[1;32m   1324\u001b[0m \u001b[0;34m\u001b[0m\u001b[0m\n",
            "\u001b[0;32m/usr/local/lib/python3.11/dist-packages/pyspark/errors/exceptions/captured.py\u001b[0m in \u001b[0;36mdeco\u001b[0;34m(*a, **kw)\u001b[0m\n\u001b[1;32m    183\u001b[0m                 \u001b[0;31m# Hide where the exception came from that shows a non-Pythonic\u001b[0m\u001b[0;34m\u001b[0m\u001b[0;34m\u001b[0m\u001b[0m\n\u001b[1;32m    184\u001b[0m                 \u001b[0;31m# JVM exception message.\u001b[0m\u001b[0;34m\u001b[0m\u001b[0;34m\u001b[0m\u001b[0m\n\u001b[0;32m--> 185\u001b[0;31m                 \u001b[0;32mraise\u001b[0m \u001b[0mconverted\u001b[0m \u001b[0;32mfrom\u001b[0m \u001b[0;32mNone\u001b[0m\u001b[0;34m\u001b[0m\u001b[0;34m\u001b[0m\u001b[0m\n\u001b[0m\u001b[1;32m    186\u001b[0m             \u001b[0;32melse\u001b[0m\u001b[0;34m:\u001b[0m\u001b[0;34m\u001b[0m\u001b[0;34m\u001b[0m\u001b[0m\n\u001b[1;32m    187\u001b[0m                 \u001b[0;32mraise\u001b[0m\u001b[0;34m\u001b[0m\u001b[0;34m\u001b[0m\u001b[0m\n",
            "\u001b[0;31mAnalysisException\u001b[0m: [UNRESOLVED_COLUMN.WITH_SUGGESTION] A column or function parameter with name `aqi` cannot be resolved. Did you mean one of the following? [`city`, `humidity`, `pressure`, `timestamp`, `wind_speed`].;\n'Project [city#800, humidity#801L, pressure#802L, temperature#803, timestamp#804L, weather_description#805, wind_direction#806L, wind_speed#807, temperature_c#1038, CASE WHEN (((('aqi > 100) OR ('pm25 > 50)) OR ('pm10 > 80)) OR (temperature_c#1038 > cast(35 as double))) THEN true ELSE false END AS alert#1060]\n+- Project [city#800, humidity#801L, pressure#802L, temperature#803, timestamp#804L, weather_description#805, wind_direction#806L, wind_speed#807, (temperature#803 - 273.15) AS temperature_c#1038]\n   +- Project [city#800, humidity#801L, pressure#802L, temperature#803, timestamp#804L, weather_description#805, wind_direction#806L, wind_speed#807, (temperature#803 - 273.15) AS temperature_c#914]\n      +- Relation [city#800,humidity#801L,pressure#802L,temperature#803,timestamp#804L,weather_description#805,wind_direction#806L,wind_speed#807] json\n"
          ]
        }
      ]
    },
    {
      "cell_type": "code",
      "source": [
        "from pyspark.sql import SparkSession\n",
        "from pyspark.sql.functions import col, to_timestamp, round, expr, when\n",
        "\n",
        "# Fusion des données via une jointure sur la ville\n",
        "df_final = df_quality.join(df_weather, [\"city\"], \"inner\")"
      ],
      "metadata": {
        "id": "E6p7pX3_m5V0"
      },
      "execution_count": 241,
      "outputs": []
    },
    {
      "cell_type": "code",
      "source": [
        "df_final.show"
      ],
      "metadata": {
        "colab": {
          "base_uri": "https://localhost:8080/",
          "height": 186
        },
        "id": "qI1jNk5N3fhh",
        "outputId": "5661faf2-b0a5-4943-fcb5-401bbd9074b4"
      },
      "execution_count": 238,
      "outputs": [
        {
          "output_type": "execute_result",
          "data": {
            "text/plain": [
              "<bound method DataFrame.show of DataFrame[city: string, aqi: bigint, co: string, no2: string, o3: string, pm10: string, pm25: bigint, so2: string, timestamp: string, humidity: bigint, pressure: bigint, temperature: double, timestamp: bigint, weather_description: string, wind_direction: bigint, wind_speed: double, temperature_c: double]>"
            ],
            "text/html": [
              "<div style=\"max-width:800px; border: 1px solid var(--colab-border-color);\"><style>\n",
              "      pre.function-repr-contents {\n",
              "        overflow-x: auto;\n",
              "        padding: 8px 12px;\n",
              "        max-height: 500px;\n",
              "      }\n",
              "\n",
              "      pre.function-repr-contents.function-repr-contents-collapsed {\n",
              "        cursor: pointer;\n",
              "        max-height: 100px;\n",
              "      }\n",
              "    </style>\n",
              "    <pre style=\"white-space: initial; background:\n",
              "         var(--colab-secondary-surface-color); padding: 8px 12px;\n",
              "         border-bottom: 1px solid var(--colab-border-color);\"><b>pyspark.sql.dataframe.DataFrame.show</b><br/>def show(n: int=20, truncate: Union[bool, int]=True, vertical: bool=False) -&gt; None</pre><pre class=\"function-repr-contents function-repr-contents-collapsed\" style=\"\"><a class=\"filepath\" style=\"display:none\" href=\"#\">/usr/local/lib/python3.11/dist-packages/pyspark/sql/dataframe.py</a>Prints the first ``n`` rows to the console.\n",
              "\n",
              ".. versionadded:: 1.3.0\n",
              "\n",
              ".. versionchanged:: 3.4.0\n",
              "    Supports Spark Connect.\n",
              "\n",
              "Parameters\n",
              "----------\n",
              "n : int, optional\n",
              "    Number of rows to show.\n",
              "truncate : bool or int, optional\n",
              "    If set to ``True``, truncate strings longer than 20 chars by default.\n",
              "    If set to a number greater than one, truncates long strings to length ``truncate``\n",
              "    and align cells right.\n",
              "vertical : bool, optional\n",
              "    If set to ``True``, print output rows vertically (one line\n",
              "    per column value).\n",
              "\n",
              "Examples\n",
              "--------\n",
              "&gt;&gt;&gt; df = spark.createDataFrame([\n",
              "...     (14, &quot;Tom&quot;), (23, &quot;Alice&quot;), (16, &quot;Bob&quot;)], [&quot;age&quot;, &quot;name&quot;])\n",
              "\n",
              "Show only top 2 rows.\n",
              "\n",
              "&gt;&gt;&gt; df.show(2)\n",
              "+---+-----+\n",
              "|age| name|\n",
              "+---+-----+\n",
              "| 14|  Tom|\n",
              "| 23|Alice|\n",
              "+---+-----+\n",
              "only showing top 2 rows\n",
              "\n",
              "Show :class:`DataFrame` where the maximum number of characters is 3.\n",
              "\n",
              "&gt;&gt;&gt; df.show(truncate=3)\n",
              "+---+----+\n",
              "|age|name|\n",
              "+---+----+\n",
              "| 14| Tom|\n",
              "| 23| Ali|\n",
              "| 16| Bob|\n",
              "+---+----+\n",
              "\n",
              "Show :class:`DataFrame` vertically.\n",
              "\n",
              "&gt;&gt;&gt; df.show(vertical=True)\n",
              "-RECORD 0-----\n",
              "age  | 14\n",
              "name | Tom\n",
              "-RECORD 1-----\n",
              "age  | 23\n",
              "name | Alice\n",
              "-RECORD 2-----\n",
              "age  | 16\n",
              "name | Bob</pre>\n",
              "      <script>\n",
              "      if (google.colab.kernel.accessAllowed && google.colab.files && google.colab.files.view) {\n",
              "        for (const element of document.querySelectorAll('.filepath')) {\n",
              "          element.style.display = 'block'\n",
              "          element.onclick = (event) => {\n",
              "            event.preventDefault();\n",
              "            event.stopPropagation();\n",
              "            google.colab.files.view(element.textContent, 887);\n",
              "          };\n",
              "        }\n",
              "      }\n",
              "      for (const element of document.querySelectorAll('.function-repr-contents')) {\n",
              "        element.onclick = (event) => {\n",
              "          event.preventDefault();\n",
              "          event.stopPropagation();\n",
              "          element.classList.toggle('function-repr-contents-collapsed');\n",
              "        };\n",
              "      }\n",
              "      </script>\n",
              "      </div>"
            ]
          },
          "metadata": {},
          "execution_count": 238
        }
      ]
    },
    {
      "cell_type": "code",
      "source": [
        "# Création d'une colonne d'alerte environnementale\n",
        "from pyspark.sql.functions import col, when\n",
        "\n",
        "# Assurer que les colonnes nécessaires existent\n",
        "df_final2 = df_final.withColumn(\n",
        "    \"alert\",\n",
        "    when(\n",
        "        (col(\"aqi\") > 100) |\n",
        "        (col(\"pm25\") > 50) |\n",
        "        (col(\"pm10\") > 80) |\n",
        "        (col(\"temperature_c\") > 35), True\n",
        "    ).otherwise(False)\n",
        ")\n",
        "\n",
        "# Affichage des résultats pour vérifier\n",
        "df_final2.show()"
      ],
      "metadata": {
        "id": "bnWjovUuuSJH"
      },
      "execution_count": null,
      "outputs": []
    },
    {
      "cell_type": "code",
      "source": [
        "pip install gbq"
      ],
      "metadata": {
        "colab": {
          "base_uri": "https://localhost:8080/"
        },
        "id": "P-xwGQW2iJIG",
        "outputId": "ba56d78b-3a0d-4c08-b673-3d3e9e7f3f76"
      },
      "execution_count": null,
      "outputs": [
        {
          "output_type": "stream",
          "name": "stdout",
          "text": [
            "Requirement already satisfied: gbq in /usr/local/lib/python3.11/dist-packages (1.0.5)\n",
            "Requirement already satisfied: google-cloud-bigquery in /usr/local/lib/python3.11/dist-packages (from gbq) (3.31.0)\n",
            "Requirement already satisfied: pydantic<3,>=2.4.0 in /usr/local/lib/python3.11/dist-packages (from gbq) (2.11.0)\n",
            "Requirement already satisfied: annotated-types>=0.6.0 in /usr/local/lib/python3.11/dist-packages (from pydantic<3,>=2.4.0->gbq) (0.7.0)\n",
            "Requirement already satisfied: pydantic-core==2.33.0 in /usr/local/lib/python3.11/dist-packages (from pydantic<3,>=2.4.0->gbq) (2.33.0)\n",
            "Requirement already satisfied: typing-extensions>=4.12.2 in /usr/local/lib/python3.11/dist-packages (from pydantic<3,>=2.4.0->gbq) (4.13.0)\n",
            "Requirement already satisfied: typing-inspection>=0.4.0 in /usr/local/lib/python3.11/dist-packages (from pydantic<3,>=2.4.0->gbq) (0.4.0)\n",
            "Requirement already satisfied: google-api-core<3.0.0,>=2.11.1 in /usr/local/lib/python3.11/dist-packages (from google-api-core[grpc]<3.0.0,>=2.11.1->google-cloud-bigquery->gbq) (2.24.2)\n",
            "Requirement already satisfied: google-auth<3.0.0,>=2.14.1 in /usr/local/lib/python3.11/dist-packages (from google-cloud-bigquery->gbq) (2.38.0)\n",
            "Requirement already satisfied: google-cloud-core<3.0.0,>=2.4.1 in /usr/local/lib/python3.11/dist-packages (from google-cloud-bigquery->gbq) (2.4.3)\n",
            "Requirement already satisfied: google-resumable-media<3.0.0,>=2.0.0 in /usr/local/lib/python3.11/dist-packages (from google-cloud-bigquery->gbq) (2.7.2)\n",
            "Requirement already satisfied: packaging>=24.2.0 in /usr/local/lib/python3.11/dist-packages (from google-cloud-bigquery->gbq) (24.2)\n",
            "Requirement already satisfied: python-dateutil<3.0.0,>=2.8.2 in /usr/local/lib/python3.11/dist-packages (from google-cloud-bigquery->gbq) (2.8.2)\n",
            "Requirement already satisfied: requests<3.0.0,>=2.21.0 in /usr/local/lib/python3.11/dist-packages (from google-cloud-bigquery->gbq) (2.32.3)\n",
            "Requirement already satisfied: googleapis-common-protos<2.0.0,>=1.56.2 in /usr/local/lib/python3.11/dist-packages (from google-api-core<3.0.0,>=2.11.1->google-api-core[grpc]<3.0.0,>=2.11.1->google-cloud-bigquery->gbq) (1.69.2)\n",
            "Requirement already satisfied: protobuf!=3.20.0,!=3.20.1,!=4.21.0,!=4.21.1,!=4.21.2,!=4.21.3,!=4.21.4,!=4.21.5,<7.0.0,>=3.19.5 in /usr/local/lib/python3.11/dist-packages (from google-api-core<3.0.0,>=2.11.1->google-api-core[grpc]<3.0.0,>=2.11.1->google-cloud-bigquery->gbq) (5.29.4)\n",
            "Requirement already satisfied: proto-plus<2.0.0,>=1.22.3 in /usr/local/lib/python3.11/dist-packages (from google-api-core<3.0.0,>=2.11.1->google-api-core[grpc]<3.0.0,>=2.11.1->google-cloud-bigquery->gbq) (1.26.1)\n",
            "Requirement already satisfied: grpcio<2.0dev,>=1.33.2 in /usr/local/lib/python3.11/dist-packages (from google-api-core[grpc]<3.0.0,>=2.11.1->google-cloud-bigquery->gbq) (1.71.0)\n",
            "Requirement already satisfied: grpcio-status<2.0.dev0,>=1.33.2 in /usr/local/lib/python3.11/dist-packages (from google-api-core[grpc]<3.0.0,>=2.11.1->google-cloud-bigquery->gbq) (1.71.0)\n",
            "Requirement already satisfied: cachetools<6.0,>=2.0.0 in /usr/local/lib/python3.11/dist-packages (from google-auth<3.0.0,>=2.14.1->google-cloud-bigquery->gbq) (5.5.2)\n",
            "Requirement already satisfied: pyasn1-modules>=0.2.1 in /usr/local/lib/python3.11/dist-packages (from google-auth<3.0.0,>=2.14.1->google-cloud-bigquery->gbq) (0.4.2)\n",
            "Requirement already satisfied: rsa<5,>=3.1.4 in /usr/local/lib/python3.11/dist-packages (from google-auth<3.0.0,>=2.14.1->google-cloud-bigquery->gbq) (4.9)\n",
            "Requirement already satisfied: google-crc32c<2.0dev,>=1.0 in /usr/local/lib/python3.11/dist-packages (from google-resumable-media<3.0.0,>=2.0.0->google-cloud-bigquery->gbq) (1.7.1)\n",
            "Requirement already satisfied: six>=1.5 in /usr/local/lib/python3.11/dist-packages (from python-dateutil<3.0.0,>=2.8.2->google-cloud-bigquery->gbq) (1.17.0)\n",
            "Requirement already satisfied: charset-normalizer<4,>=2 in /usr/local/lib/python3.11/dist-packages (from requests<3.0.0,>=2.21.0->google-cloud-bigquery->gbq) (3.4.1)\n",
            "Requirement already satisfied: idna<4,>=2.5 in /usr/local/lib/python3.11/dist-packages (from requests<3.0.0,>=2.21.0->google-cloud-bigquery->gbq) (3.10)\n",
            "Requirement already satisfied: urllib3<3,>=1.21.1 in /usr/local/lib/python3.11/dist-packages (from requests<3.0.0,>=2.21.0->google-cloud-bigquery->gbq) (2.3.0)\n",
            "Requirement already satisfied: certifi>=2017.4.17 in /usr/local/lib/python3.11/dist-packages (from requests<3.0.0,>=2.21.0->google-cloud-bigquery->gbq) (2025.1.31)\n",
            "Requirement already satisfied: pyasn1<0.7.0,>=0.6.1 in /usr/local/lib/python3.11/dist-packages (from pyasn1-modules>=0.2.1->google-auth<3.0.0,>=2.14.1->google-cloud-bigquery->gbq) (0.6.1)\n"
          ]
        }
      ]
    },
    {
      "cell_type": "code",
      "source": [
        "from google.oauth2 import service_account\n",
        "from pandas_gbq import to_gbq\n",
        "\n",
        "project_id = \"norse-strata-455512-c6\"\n",
        "dataset_table = \"etl_meto_mh\"\n",
        "table_name = \"result_mmadi\"\n",
        "\n",
        "credentials = service_account.Credentials.from_service_account_file( \"/content/norse-strata-455512-c6-8c3e1227d881.json\")\n",
        "\n",
        "\n",
        "destination_table = f\"{dataset_table}.{table_name}\"\n",
        "pdf = df_final.toPandas()\n",
        "\n",
        "pdf"
      ],
      "metadata": {
        "colab": {
          "base_uri": "https://localhost:8080/",
          "height": 167
        },
        "id": "aA8r_fMkg62R",
        "outputId": "80ba1299-515d-4546-bd92-1b261da867b2"
      },
      "execution_count": null,
      "outputs": [
        {
          "output_type": "execute_result",
          "data": {
            "text/plain": [
              "       city  aqi   co  no2    o3 pm10  pm25  so2                  timestamp  \\\n",
              "0     Paris   33  0.1   24  19.3   12    33  0.6  2025-04-02T06:00:00+02:00   \n",
              "1  New York   15  N/A  N/A   N/A  N/A    15  N/A  2025-04-02T01:00:00-04:00   \n",
              "\n",
              "   humidity  pressure  temperature   timestamp weather_description  \\\n",
              "0        61      1017         8.98  1743579865         ciel dégagé   \n",
              "1        43      1029         4.10  1743579377         ciel dégagé   \n",
              "\n",
              "   wind_direction  wind_speed  temperature_c  \n",
              "0              80        7.20        -264.17  \n",
              "1             360        6.17        -269.05  "
            ],
            "text/html": [
              "\n",
              "  <div id=\"df-33f6f51e-1517-4ad5-a0b0-7bba22326227\" class=\"colab-df-container\">\n",
              "    <div>\n",
              "<style scoped>\n",
              "    .dataframe tbody tr th:only-of-type {\n",
              "        vertical-align: middle;\n",
              "    }\n",
              "\n",
              "    .dataframe tbody tr th {\n",
              "        vertical-align: top;\n",
              "    }\n",
              "\n",
              "    .dataframe thead th {\n",
              "        text-align: right;\n",
              "    }\n",
              "</style>\n",
              "<table border=\"1\" class=\"dataframe\">\n",
              "  <thead>\n",
              "    <tr style=\"text-align: right;\">\n",
              "      <th></th>\n",
              "      <th>city</th>\n",
              "      <th>aqi</th>\n",
              "      <th>co</th>\n",
              "      <th>no2</th>\n",
              "      <th>o3</th>\n",
              "      <th>pm10</th>\n",
              "      <th>pm25</th>\n",
              "      <th>so2</th>\n",
              "      <th>timestamp</th>\n",
              "      <th>humidity</th>\n",
              "      <th>pressure</th>\n",
              "      <th>temperature</th>\n",
              "      <th>timestamp</th>\n",
              "      <th>weather_description</th>\n",
              "      <th>wind_direction</th>\n",
              "      <th>wind_speed</th>\n",
              "      <th>temperature_c</th>\n",
              "    </tr>\n",
              "  </thead>\n",
              "  <tbody>\n",
              "    <tr>\n",
              "      <th>0</th>\n",
              "      <td>Paris</td>\n",
              "      <td>33</td>\n",
              "      <td>0.1</td>\n",
              "      <td>24</td>\n",
              "      <td>19.3</td>\n",
              "      <td>12</td>\n",
              "      <td>33</td>\n",
              "      <td>0.6</td>\n",
              "      <td>2025-04-02T06:00:00+02:00</td>\n",
              "      <td>61</td>\n",
              "      <td>1017</td>\n",
              "      <td>8.98</td>\n",
              "      <td>1743579865</td>\n",
              "      <td>ciel dégagé</td>\n",
              "      <td>80</td>\n",
              "      <td>7.20</td>\n",
              "      <td>-264.17</td>\n",
              "    </tr>\n",
              "    <tr>\n",
              "      <th>1</th>\n",
              "      <td>New York</td>\n",
              "      <td>15</td>\n",
              "      <td>N/A</td>\n",
              "      <td>N/A</td>\n",
              "      <td>N/A</td>\n",
              "      <td>N/A</td>\n",
              "      <td>15</td>\n",
              "      <td>N/A</td>\n",
              "      <td>2025-04-02T01:00:00-04:00</td>\n",
              "      <td>43</td>\n",
              "      <td>1029</td>\n",
              "      <td>4.10</td>\n",
              "      <td>1743579377</td>\n",
              "      <td>ciel dégagé</td>\n",
              "      <td>360</td>\n",
              "      <td>6.17</td>\n",
              "      <td>-269.05</td>\n",
              "    </tr>\n",
              "  </tbody>\n",
              "</table>\n",
              "</div>\n",
              "    <div class=\"colab-df-buttons\">\n",
              "\n",
              "  <div class=\"colab-df-container\">\n",
              "    <button class=\"colab-df-convert\" onclick=\"convertToInteractive('df-33f6f51e-1517-4ad5-a0b0-7bba22326227')\"\n",
              "            title=\"Convert this dataframe to an interactive table.\"\n",
              "            style=\"display:none;\">\n",
              "\n",
              "  <svg xmlns=\"http://www.w3.org/2000/svg\" height=\"24px\" viewBox=\"0 -960 960 960\">\n",
              "    <path d=\"M120-120v-720h720v720H120Zm60-500h600v-160H180v160Zm220 220h160v-160H400v160Zm0 220h160v-160H400v160ZM180-400h160v-160H180v160Zm440 0h160v-160H620v160ZM180-180h160v-160H180v160Zm440 0h160v-160H620v160Z\"/>\n",
              "  </svg>\n",
              "    </button>\n",
              "\n",
              "  <style>\n",
              "    .colab-df-container {\n",
              "      display:flex;\n",
              "      gap: 12px;\n",
              "    }\n",
              "\n",
              "    .colab-df-convert {\n",
              "      background-color: #E8F0FE;\n",
              "      border: none;\n",
              "      border-radius: 50%;\n",
              "      cursor: pointer;\n",
              "      display: none;\n",
              "      fill: #1967D2;\n",
              "      height: 32px;\n",
              "      padding: 0 0 0 0;\n",
              "      width: 32px;\n",
              "    }\n",
              "\n",
              "    .colab-df-convert:hover {\n",
              "      background-color: #E2EBFA;\n",
              "      box-shadow: 0px 1px 2px rgba(60, 64, 67, 0.3), 0px 1px 3px 1px rgba(60, 64, 67, 0.15);\n",
              "      fill: #174EA6;\n",
              "    }\n",
              "\n",
              "    .colab-df-buttons div {\n",
              "      margin-bottom: 4px;\n",
              "    }\n",
              "\n",
              "    [theme=dark] .colab-df-convert {\n",
              "      background-color: #3B4455;\n",
              "      fill: #D2E3FC;\n",
              "    }\n",
              "\n",
              "    [theme=dark] .colab-df-convert:hover {\n",
              "      background-color: #434B5C;\n",
              "      box-shadow: 0px 1px 3px 1px rgba(0, 0, 0, 0.15);\n",
              "      filter: drop-shadow(0px 1px 2px rgba(0, 0, 0, 0.3));\n",
              "      fill: #FFFFFF;\n",
              "    }\n",
              "  </style>\n",
              "\n",
              "    <script>\n",
              "      const buttonEl =\n",
              "        document.querySelector('#df-33f6f51e-1517-4ad5-a0b0-7bba22326227 button.colab-df-convert');\n",
              "      buttonEl.style.display =\n",
              "        google.colab.kernel.accessAllowed ? 'block' : 'none';\n",
              "\n",
              "      async function convertToInteractive(key) {\n",
              "        const element = document.querySelector('#df-33f6f51e-1517-4ad5-a0b0-7bba22326227');\n",
              "        const dataTable =\n",
              "          await google.colab.kernel.invokeFunction('convertToInteractive',\n",
              "                                                    [key], {});\n",
              "        if (!dataTable) return;\n",
              "\n",
              "        const docLinkHtml = 'Like what you see? Visit the ' +\n",
              "          '<a target=\"_blank\" href=https://colab.research.google.com/notebooks/data_table.ipynb>data table notebook</a>'\n",
              "          + ' to learn more about interactive tables.';\n",
              "        element.innerHTML = '';\n",
              "        dataTable['output_type'] = 'display_data';\n",
              "        await google.colab.output.renderOutput(dataTable, element);\n",
              "        const docLink = document.createElement('div');\n",
              "        docLink.innerHTML = docLinkHtml;\n",
              "        element.appendChild(docLink);\n",
              "      }\n",
              "    </script>\n",
              "  </div>\n",
              "\n",
              "\n",
              "<div id=\"df-8651551e-9034-44e0-9dc2-e14729f6c59f\">\n",
              "  <button class=\"colab-df-quickchart\" onclick=\"quickchart('df-8651551e-9034-44e0-9dc2-e14729f6c59f')\"\n",
              "            title=\"Suggest charts\"\n",
              "            style=\"display:none;\">\n",
              "\n",
              "<svg xmlns=\"http://www.w3.org/2000/svg\" height=\"24px\"viewBox=\"0 0 24 24\"\n",
              "     width=\"24px\">\n",
              "    <g>\n",
              "        <path d=\"M19 3H5c-1.1 0-2 .9-2 2v14c0 1.1.9 2 2 2h14c1.1 0 2-.9 2-2V5c0-1.1-.9-2-2-2zM9 17H7v-7h2v7zm4 0h-2V7h2v10zm4 0h-2v-4h2v4z\"/>\n",
              "    </g>\n",
              "</svg>\n",
              "  </button>\n",
              "\n",
              "<style>\n",
              "  .colab-df-quickchart {\n",
              "      --bg-color: #E8F0FE;\n",
              "      --fill-color: #1967D2;\n",
              "      --hover-bg-color: #E2EBFA;\n",
              "      --hover-fill-color: #174EA6;\n",
              "      --disabled-fill-color: #AAA;\n",
              "      --disabled-bg-color: #DDD;\n",
              "  }\n",
              "\n",
              "  [theme=dark] .colab-df-quickchart {\n",
              "      --bg-color: #3B4455;\n",
              "      --fill-color: #D2E3FC;\n",
              "      --hover-bg-color: #434B5C;\n",
              "      --hover-fill-color: #FFFFFF;\n",
              "      --disabled-bg-color: #3B4455;\n",
              "      --disabled-fill-color: #666;\n",
              "  }\n",
              "\n",
              "  .colab-df-quickchart {\n",
              "    background-color: var(--bg-color);\n",
              "    border: none;\n",
              "    border-radius: 50%;\n",
              "    cursor: pointer;\n",
              "    display: none;\n",
              "    fill: var(--fill-color);\n",
              "    height: 32px;\n",
              "    padding: 0;\n",
              "    width: 32px;\n",
              "  }\n",
              "\n",
              "  .colab-df-quickchart:hover {\n",
              "    background-color: var(--hover-bg-color);\n",
              "    box-shadow: 0 1px 2px rgba(60, 64, 67, 0.3), 0 1px 3px 1px rgba(60, 64, 67, 0.15);\n",
              "    fill: var(--button-hover-fill-color);\n",
              "  }\n",
              "\n",
              "  .colab-df-quickchart-complete:disabled,\n",
              "  .colab-df-quickchart-complete:disabled:hover {\n",
              "    background-color: var(--disabled-bg-color);\n",
              "    fill: var(--disabled-fill-color);\n",
              "    box-shadow: none;\n",
              "  }\n",
              "\n",
              "  .colab-df-spinner {\n",
              "    border: 2px solid var(--fill-color);\n",
              "    border-color: transparent;\n",
              "    border-bottom-color: var(--fill-color);\n",
              "    animation:\n",
              "      spin 1s steps(1) infinite;\n",
              "  }\n",
              "\n",
              "  @keyframes spin {\n",
              "    0% {\n",
              "      border-color: transparent;\n",
              "      border-bottom-color: var(--fill-color);\n",
              "      border-left-color: var(--fill-color);\n",
              "    }\n",
              "    20% {\n",
              "      border-color: transparent;\n",
              "      border-left-color: var(--fill-color);\n",
              "      border-top-color: var(--fill-color);\n",
              "    }\n",
              "    30% {\n",
              "      border-color: transparent;\n",
              "      border-left-color: var(--fill-color);\n",
              "      border-top-color: var(--fill-color);\n",
              "      border-right-color: var(--fill-color);\n",
              "    }\n",
              "    40% {\n",
              "      border-color: transparent;\n",
              "      border-right-color: var(--fill-color);\n",
              "      border-top-color: var(--fill-color);\n",
              "    }\n",
              "    60% {\n",
              "      border-color: transparent;\n",
              "      border-right-color: var(--fill-color);\n",
              "    }\n",
              "    80% {\n",
              "      border-color: transparent;\n",
              "      border-right-color: var(--fill-color);\n",
              "      border-bottom-color: var(--fill-color);\n",
              "    }\n",
              "    90% {\n",
              "      border-color: transparent;\n",
              "      border-bottom-color: var(--fill-color);\n",
              "    }\n",
              "  }\n",
              "</style>\n",
              "\n",
              "  <script>\n",
              "    async function quickchart(key) {\n",
              "      const quickchartButtonEl =\n",
              "        document.querySelector('#' + key + ' button');\n",
              "      quickchartButtonEl.disabled = true;  // To prevent multiple clicks.\n",
              "      quickchartButtonEl.classList.add('colab-df-spinner');\n",
              "      try {\n",
              "        const charts = await google.colab.kernel.invokeFunction(\n",
              "            'suggestCharts', [key], {});\n",
              "      } catch (error) {\n",
              "        console.error('Error during call to suggestCharts:', error);\n",
              "      }\n",
              "      quickchartButtonEl.classList.remove('colab-df-spinner');\n",
              "      quickchartButtonEl.classList.add('colab-df-quickchart-complete');\n",
              "    }\n",
              "    (() => {\n",
              "      let quickchartButtonEl =\n",
              "        document.querySelector('#df-8651551e-9034-44e0-9dc2-e14729f6c59f button');\n",
              "      quickchartButtonEl.style.display =\n",
              "        google.colab.kernel.accessAllowed ? 'block' : 'none';\n",
              "    })();\n",
              "  </script>\n",
              "</div>\n",
              "\n",
              "  <div id=\"id_c324ee6d-1ce9-406a-8e8b-4167feb5d790\">\n",
              "    <style>\n",
              "      .colab-df-generate {\n",
              "        background-color: #E8F0FE;\n",
              "        border: none;\n",
              "        border-radius: 50%;\n",
              "        cursor: pointer;\n",
              "        display: none;\n",
              "        fill: #1967D2;\n",
              "        height: 32px;\n",
              "        padding: 0 0 0 0;\n",
              "        width: 32px;\n",
              "      }\n",
              "\n",
              "      .colab-df-generate:hover {\n",
              "        background-color: #E2EBFA;\n",
              "        box-shadow: 0px 1px 2px rgba(60, 64, 67, 0.3), 0px 1px 3px 1px rgba(60, 64, 67, 0.15);\n",
              "        fill: #174EA6;\n",
              "      }\n",
              "\n",
              "      [theme=dark] .colab-df-generate {\n",
              "        background-color: #3B4455;\n",
              "        fill: #D2E3FC;\n",
              "      }\n",
              "\n",
              "      [theme=dark] .colab-df-generate:hover {\n",
              "        background-color: #434B5C;\n",
              "        box-shadow: 0px 1px 3px 1px rgba(0, 0, 0, 0.15);\n",
              "        filter: drop-shadow(0px 1px 2px rgba(0, 0, 0, 0.3));\n",
              "        fill: #FFFFFF;\n",
              "      }\n",
              "    </style>\n",
              "    <button class=\"colab-df-generate\" onclick=\"generateWithVariable('pdf')\"\n",
              "            title=\"Generate code using this dataframe.\"\n",
              "            style=\"display:none;\">\n",
              "\n",
              "  <svg xmlns=\"http://www.w3.org/2000/svg\" height=\"24px\"viewBox=\"0 0 24 24\"\n",
              "       width=\"24px\">\n",
              "    <path d=\"M7,19H8.4L18.45,9,17,7.55,7,17.6ZM5,21V16.75L18.45,3.32a2,2,0,0,1,2.83,0l1.4,1.43a1.91,1.91,0,0,1,.58,1.4,1.91,1.91,0,0,1-.58,1.4L9.25,21ZM18.45,9,17,7.55Zm-12,3A5.31,5.31,0,0,0,4.9,8.1,5.31,5.31,0,0,0,1,6.5,5.31,5.31,0,0,0,4.9,4.9,5.31,5.31,0,0,0,6.5,1,5.31,5.31,0,0,0,8.1,4.9,5.31,5.31,0,0,0,12,6.5,5.46,5.46,0,0,0,6.5,12Z\"/>\n",
              "  </svg>\n",
              "    </button>\n",
              "    <script>\n",
              "      (() => {\n",
              "      const buttonEl =\n",
              "        document.querySelector('#id_c324ee6d-1ce9-406a-8e8b-4167feb5d790 button.colab-df-generate');\n",
              "      buttonEl.style.display =\n",
              "        google.colab.kernel.accessAllowed ? 'block' : 'none';\n",
              "\n",
              "      buttonEl.onclick = () => {\n",
              "        google.colab.notebook.generateWithVariable('pdf');\n",
              "      }\n",
              "      })();\n",
              "    </script>\n",
              "  </div>\n",
              "\n",
              "    </div>\n",
              "  </div>\n"
            ],
            "application/vnd.google.colaboratory.intrinsic+json": {
              "type": "dataframe",
              "variable_name": "pdf",
              "summary": "{\n  \"name\": \"pdf\",\n  \"rows\": 2,\n  \"fields\": [\n    {\n      \"column\": \"city\",\n      \"properties\": {\n        \"dtype\": \"string\",\n        \"num_unique_values\": 2,\n        \"samples\": [\n          \"New York\",\n          \"Paris\"\n        ],\n        \"semantic_type\": \"\",\n        \"description\": \"\"\n      }\n    },\n    {\n      \"column\": \"aqi\",\n      \"properties\": {\n        \"dtype\": \"number\",\n        \"std\": 12,\n        \"min\": 15,\n        \"max\": 33,\n        \"num_unique_values\": 2,\n        \"samples\": [\n          15,\n          33\n        ],\n        \"semantic_type\": \"\",\n        \"description\": \"\"\n      }\n    },\n    {\n      \"column\": \"co\",\n      \"properties\": {\n        \"dtype\": \"string\",\n        \"num_unique_values\": 2,\n        \"samples\": [\n          \"N/A\",\n          \"0.1\"\n        ],\n        \"semantic_type\": \"\",\n        \"description\": \"\"\n      }\n    },\n    {\n      \"column\": \"no2\",\n      \"properties\": {\n        \"dtype\": \"string\",\n        \"num_unique_values\": 2,\n        \"samples\": [\n          \"N/A\",\n          \"24\"\n        ],\n        \"semantic_type\": \"\",\n        \"description\": \"\"\n      }\n    },\n    {\n      \"column\": \"o3\",\n      \"properties\": {\n        \"dtype\": \"string\",\n        \"num_unique_values\": 2,\n        \"samples\": [\n          \"N/A\",\n          \"19.3\"\n        ],\n        \"semantic_type\": \"\",\n        \"description\": \"\"\n      }\n    },\n    {\n      \"column\": \"pm10\",\n      \"properties\": {\n        \"dtype\": \"string\",\n        \"num_unique_values\": 2,\n        \"samples\": [\n          \"N/A\",\n          \"12\"\n        ],\n        \"semantic_type\": \"\",\n        \"description\": \"\"\n      }\n    },\n    {\n      \"column\": \"pm25\",\n      \"properties\": {\n        \"dtype\": \"number\",\n        \"std\": 12,\n        \"min\": 15,\n        \"max\": 33,\n        \"num_unique_values\": 2,\n        \"samples\": [\n          15,\n          33\n        ],\n        \"semantic_type\": \"\",\n        \"description\": \"\"\n      }\n    },\n    {\n      \"column\": \"so2\",\n      \"properties\": {\n        \"dtype\": \"string\",\n        \"num_unique_values\": 2,\n        \"samples\": [\n          \"N/A\",\n          \"0.6\"\n        ],\n        \"semantic_type\": \"\",\n        \"description\": \"\"\n      }\n    },\n    {\n      \"column\": \"timestamp\",\n      \"properties\": {\n        \"dtype\": \"object\",\n        \"num_unique_values\": 2,\n        \"samples\": [\n          \"2025-04-02T01:00:00-04:00\",\n          \"2025-04-02T06:00:00+02:00\"\n        ],\n        \"semantic_type\": \"\",\n        \"description\": \"\"\n      }\n    },\n    {\n      \"column\": \"humidity\",\n      \"properties\": {\n        \"dtype\": \"number\",\n        \"std\": 12,\n        \"min\": 43,\n        \"max\": 61,\n        \"num_unique_values\": 2,\n        \"samples\": [\n          43,\n          61\n        ],\n        \"semantic_type\": \"\",\n        \"description\": \"\"\n      }\n    },\n    {\n      \"column\": \"pressure\",\n      \"properties\": {\n        \"dtype\": \"number\",\n        \"std\": 8,\n        \"min\": 1017,\n        \"max\": 1029,\n        \"num_unique_values\": 2,\n        \"samples\": [\n          1029,\n          1017\n        ],\n        \"semantic_type\": \"\",\n        \"description\": \"\"\n      }\n    },\n    {\n      \"column\": \"temperature\",\n      \"properties\": {\n        \"dtype\": \"number\",\n        \"std\": 3.4506810921903526,\n        \"min\": 4.1,\n        \"max\": 8.98,\n        \"num_unique_values\": 2,\n        \"samples\": [\n          4.1,\n          8.98\n        ],\n        \"semantic_type\": \"\",\n        \"description\": \"\"\n      }\n    },\n    {\n      \"column\": \"timestamp\",\n      \"properties\": {\n        \"dtype\": \"number\",\n        \"std\": 345,\n        \"min\": 1743579377,\n        \"max\": 1743579865,\n        \"num_unique_values\": 2,\n        \"samples\": [\n          1743579377,\n          1743579865\n        ],\n        \"semantic_type\": \"\",\n        \"description\": \"\"\n      }\n    },\n    {\n      \"column\": \"weather_description\",\n      \"properties\": {\n        \"dtype\": \"string\",\n        \"num_unique_values\": 1,\n        \"samples\": [\n          \"ciel d\\u00e9gag\\u00e9\"\n        ],\n        \"semantic_type\": \"\",\n        \"description\": \"\"\n      }\n    },\n    {\n      \"column\": \"wind_direction\",\n      \"properties\": {\n        \"dtype\": \"number\",\n        \"std\": 197,\n        \"min\": 80,\n        \"max\": 360,\n        \"num_unique_values\": 2,\n        \"samples\": [\n          360\n        ],\n        \"semantic_type\": \"\",\n        \"description\": \"\"\n      }\n    },\n    {\n      \"column\": \"wind_speed\",\n      \"properties\": {\n        \"dtype\": \"number\",\n        \"std\": 0.7283199846221442,\n        \"min\": 6.17,\n        \"max\": 7.2,\n        \"num_unique_values\": 2,\n        \"samples\": [\n          6.17\n        ],\n        \"semantic_type\": \"\",\n        \"description\": \"\"\n      }\n    },\n    {\n      \"column\": \"temperature_c\",\n      \"properties\": {\n        \"dtype\": \"number\",\n        \"std\": 3.4506810921903486,\n        \"min\": -269.04999999999995,\n        \"max\": -264.16999999999996,\n        \"num_unique_values\": 2,\n        \"samples\": [\n          -269.04999999999995\n        ],\n        \"semantic_type\": \"\",\n        \"description\": \"\"\n      }\n    }\n  ]\n}"
            }
          },
          "metadata": {},
          "execution_count": 201
        }
      ]
    },
    {
      "cell_type": "code",
      "source": [],
      "metadata": {
        "id": "aWW-fX92vdOj"
      },
      "execution_count": null,
      "outputs": []
    },
    {
      "cell_type": "code",
      "source": [
        "pdf1 = pdf[pdf[\"city\"].notna()].copy()\n"
      ],
      "metadata": {
        "id": "jcHqPvkJlE90"
      },
      "execution_count": null,
      "outputs": []
    },
    {
      "cell_type": "code",
      "source": [
        "pdf1=pdf1[['city',  'aqi',   'co', 'no2',    'o3', 'pm10',  'pm25',  'so2']]"
      ],
      "metadata": {
        "id": "Y0Tn_aWGnLN3"
      },
      "execution_count": null,
      "outputs": []
    },
    {
      "cell_type": "code",
      "source": [
        "from google.cloud import bigquery\n",
        "from pandas_gbq import to_gbq\n",
        "import pandas as pd\n",
        "\n",
        "# Vérifier et nettoyer le DataFrame\n",
        "print(type(pdf1))\n",
        "print(pdf1.head())\n",
        "\n",
        "#pdf = pdf.where(pd.notna(pdf), '0')  # Remplace NaN par None\n",
        "pdf1 = pdf1.dropna()\n",
        "\n",
        "# Vérification des variables\n",
        "print(f\"Table: {destination_table}, Projet: {project_id}\")\n",
        "\n",
        "# Envoi des données à BigQuery\n",
        "to_gbq(\n",
        "    dataframe=pdf1,\n",
        "    destination_table=destination_table,\n",
        "    project_id=project_id,\n",
        "    if_exists=\"append\",\n",
        "    credentials=credentials\n",
        ")\n"
      ],
      "metadata": {
        "colab": {
          "base_uri": "https://localhost:8080/"
        },
        "id": "7pR64oIQjSQW",
        "outputId": "a00d0402-5dd8-413a-8d65-9b73d2f219de"
      },
      "execution_count": null,
      "outputs": [
        {
          "output_type": "stream",
          "name": "stdout",
          "text": [
            "<class 'pandas.core.frame.DataFrame'>\n",
            "       city  aqi   co  no2    o3 pm10  pm25  so2\n",
            "0     Paris   33  0.1   24  19.3   12    33  0.6\n",
            "1  New York   15  N/A  N/A   N/A  N/A    15  N/A\n",
            "Table: etl_meto_mh.result_mmadi, Projet: norse-strata-455512-c6\n"
          ]
        },
        {
          "output_type": "stream",
          "name": "stderr",
          "text": [
            "100%|██████████| 1/1 [00:00<00:00, 11096.04it/s]\n"
          ]
        }
      ]
    },
    {
      "cell_type": "code",
      "source": [
        "\n"
      ],
      "metadata": {
        "id": "ewvGZT__qP9F"
      },
      "execution_count": null,
      "outputs": []
    },
    {
      "cell_type": "code",
      "source": [
        "df_final.columns"
      ],
      "metadata": {
        "colab": {
          "base_uri": "https://localhost:8080/"
        },
        "id": "T0cyDWddq8sk",
        "outputId": "eb095558-d05b-4cdc-b45f-b9f66af444cf"
      },
      "execution_count": null,
      "outputs": [
        {
          "output_type": "execute_result",
          "data": {
            "text/plain": [
              "['city',\n",
              " 'aqi',\n",
              " 'co',\n",
              " 'no2',\n",
              " 'o3',\n",
              " 'pm10',\n",
              " 'pm25',\n",
              " 'so2',\n",
              " 'timestamp',\n",
              " 'humidity',\n",
              " 'pressure',\n",
              " 'temperature',\n",
              " 'timestamp',\n",
              " 'weather_description',\n",
              " 'wind_direction',\n",
              " 'wind_speed']"
            ]
          },
          "metadata": {},
          "execution_count": 72
        }
      ]
    },
    {
      "cell_type": "code",
      "source": [],
      "metadata": {
        "id": "_vfyTZGXk1SV"
      },
      "execution_count": null,
      "outputs": []
    },
    {
      "cell_type": "code",
      "source": [
        "\n",
        "\n",
        "\n",
        "\n"
      ],
      "metadata": {
        "colab": {
          "base_uri": "https://localhost:8080/",
          "height": 370
        },
        "id": "p7BM_eChq6x6",
        "outputId": "b6bc7599-9ce3-40f9-af05-7a33eb50ba9c"
      },
      "execution_count": null,
      "outputs": [
        {
          "output_type": "error",
          "ename": "AnalysisException",
          "evalue": "[AMBIGUOUS_REFERENCE] Reference `air_quality`.`timestamp` is ambiguous, could be: [`air_quality`, `air_quality`].",
          "traceback": [
            "\u001b[0;31m---------------------------------------------------------------------------\u001b[0m",
            "\u001b[0;31mAnalysisException\u001b[0m                         Traceback (most recent call last)",
            "\u001b[0;32m<ipython-input-68-94b471dc1acc>\u001b[0m in \u001b[0;36m<cell line: 0>\u001b[0;34m()\u001b[0m\n\u001b[1;32m      3\u001b[0m \u001b[0;34m\u001b[0m\u001b[0m\n\u001b[1;32m      4\u001b[0m \u001b[0;31m# Sélection et renommage des colonnes utiles\u001b[0m\u001b[0;34m\u001b[0m\u001b[0;34m\u001b[0m\u001b[0m\n\u001b[0;32m----> 5\u001b[0;31m df_final = df_final.select(\n\u001b[0m\u001b[1;32m      6\u001b[0m     \u001b[0mcol\u001b[0m\u001b[0;34m(\u001b[0m\u001b[0;34m\"city\"\u001b[0m\u001b[0;34m)\u001b[0m\u001b[0;34m.\u001b[0m\u001b[0malias\u001b[0m\u001b[0;34m(\u001b[0m\u001b[0;34m\"city\"\u001b[0m\u001b[0;34m)\u001b[0m\u001b[0;34m,\u001b[0m\u001b[0;34m\u001b[0m\u001b[0;34m\u001b[0m\u001b[0m\n\u001b[1;32m      7\u001b[0m     \u001b[0mto_timestamp\u001b[0m\u001b[0;34m(\u001b[0m\u001b[0mcol\u001b[0m\u001b[0;34m(\u001b[0m\u001b[0;34m\"air_quality.timestamp\"\u001b[0m\u001b[0;34m)\u001b[0m\u001b[0;34m)\u001b[0m\u001b[0;34m.\u001b[0m\u001b[0malias\u001b[0m\u001b[0;34m(\u001b[0m\u001b[0;34m\"air_quality_timestamp\"\u001b[0m\u001b[0;34m)\u001b[0m\u001b[0;34m,\u001b[0m  \u001b[0;31m# Renommé pour éviter l'ambiguïté\u001b[0m\u001b[0;34m\u001b[0m\u001b[0;34m\u001b[0m\u001b[0m\n",
            "\u001b[0;32m/usr/local/lib/python3.11/dist-packages/pyspark/sql/dataframe.py\u001b[0m in \u001b[0;36mselect\u001b[0;34m(self, *cols)\u001b[0m\n\u001b[1;32m   3227\u001b[0m         \u001b[0;34m+\u001b[0m\u001b[0;34m-\u001b[0m\u001b[0;34m-\u001b[0m\u001b[0;34m-\u001b[0m\u001b[0;34m-\u001b[0m\u001b[0;34m-\u001b[0m\u001b[0;34m+\u001b[0m\u001b[0;34m-\u001b[0m\u001b[0;34m-\u001b[0m\u001b[0;34m-\u001b[0m\u001b[0;34m+\u001b[0m\u001b[0;34m\u001b[0m\u001b[0;34m\u001b[0m\u001b[0m\n\u001b[1;32m   3228\u001b[0m         \"\"\"\n\u001b[0;32m-> 3229\u001b[0;31m         \u001b[0mjdf\u001b[0m \u001b[0;34m=\u001b[0m \u001b[0mself\u001b[0m\u001b[0;34m.\u001b[0m\u001b[0m_jdf\u001b[0m\u001b[0;34m.\u001b[0m\u001b[0mselect\u001b[0m\u001b[0;34m(\u001b[0m\u001b[0mself\u001b[0m\u001b[0;34m.\u001b[0m\u001b[0m_jcols\u001b[0m\u001b[0;34m(\u001b[0m\u001b[0;34m*\u001b[0m\u001b[0mcols\u001b[0m\u001b[0;34m)\u001b[0m\u001b[0;34m)\u001b[0m\u001b[0;34m\u001b[0m\u001b[0;34m\u001b[0m\u001b[0m\n\u001b[0m\u001b[1;32m   3230\u001b[0m         \u001b[0;32mreturn\u001b[0m \u001b[0mDataFrame\u001b[0m\u001b[0;34m(\u001b[0m\u001b[0mjdf\u001b[0m\u001b[0;34m,\u001b[0m \u001b[0mself\u001b[0m\u001b[0;34m.\u001b[0m\u001b[0msparkSession\u001b[0m\u001b[0;34m)\u001b[0m\u001b[0;34m\u001b[0m\u001b[0;34m\u001b[0m\u001b[0m\n\u001b[1;32m   3231\u001b[0m \u001b[0;34m\u001b[0m\u001b[0m\n",
            "\u001b[0;32m/usr/local/lib/python3.11/dist-packages/py4j/java_gateway.py\u001b[0m in \u001b[0;36m__call__\u001b[0;34m(self, *args)\u001b[0m\n\u001b[1;32m   1320\u001b[0m \u001b[0;34m\u001b[0m\u001b[0m\n\u001b[1;32m   1321\u001b[0m         \u001b[0manswer\u001b[0m \u001b[0;34m=\u001b[0m \u001b[0mself\u001b[0m\u001b[0;34m.\u001b[0m\u001b[0mgateway_client\u001b[0m\u001b[0;34m.\u001b[0m\u001b[0msend_command\u001b[0m\u001b[0;34m(\u001b[0m\u001b[0mcommand\u001b[0m\u001b[0;34m)\u001b[0m\u001b[0;34m\u001b[0m\u001b[0;34m\u001b[0m\u001b[0m\n\u001b[0;32m-> 1322\u001b[0;31m         return_value = get_return_value(\n\u001b[0m\u001b[1;32m   1323\u001b[0m             answer, self.gateway_client, self.target_id, self.name)\n\u001b[1;32m   1324\u001b[0m \u001b[0;34m\u001b[0m\u001b[0m\n",
            "\u001b[0;32m/usr/local/lib/python3.11/dist-packages/pyspark/errors/exceptions/captured.py\u001b[0m in \u001b[0;36mdeco\u001b[0;34m(*a, **kw)\u001b[0m\n\u001b[1;32m    183\u001b[0m                 \u001b[0;31m# Hide where the exception came from that shows a non-Pythonic\u001b[0m\u001b[0;34m\u001b[0m\u001b[0;34m\u001b[0m\u001b[0m\n\u001b[1;32m    184\u001b[0m                 \u001b[0;31m# JVM exception message.\u001b[0m\u001b[0;34m\u001b[0m\u001b[0;34m\u001b[0m\u001b[0m\n\u001b[0;32m--> 185\u001b[0;31m                 \u001b[0;32mraise\u001b[0m \u001b[0mconverted\u001b[0m \u001b[0;32mfrom\u001b[0m \u001b[0;32mNone\u001b[0m\u001b[0;34m\u001b[0m\u001b[0;34m\u001b[0m\u001b[0m\n\u001b[0m\u001b[1;32m    186\u001b[0m             \u001b[0;32melse\u001b[0m\u001b[0;34m:\u001b[0m\u001b[0;34m\u001b[0m\u001b[0;34m\u001b[0m\u001b[0m\n\u001b[1;32m    187\u001b[0m                 \u001b[0;32mraise\u001b[0m\u001b[0;34m\u001b[0m\u001b[0;34m\u001b[0m\u001b[0m\n",
            "\u001b[0;31mAnalysisException\u001b[0m: [AMBIGUOUS_REFERENCE] Reference `air_quality`.`timestamp` is ambiguous, could be: [`air_quality`, `air_quality`]."
          ]
        }
      ]
    },
    {
      "cell_type": "code",
      "source": [
        "\n",
        "\n"
      ],
      "metadata": {
        "colab": {
          "base_uri": "https://localhost:8080/",
          "height": 497
        },
        "id": "wqAxo5mvpj_z",
        "outputId": "aa2c153a-fdb0-4c7f-8978-9572a2888388"
      },
      "execution_count": null,
      "outputs": [
        {
          "output_type": "error",
          "ename": "AnalysisException",
          "evalue": "[UNRESOLVED_COLUMN.WITH_SUGGESTION] A column or function parameter with name `air_quality`.`timestamp` cannot be resolved. Did you mean one of the following? [`timestamp`, `city`, `aqi`, `pm10`, `pm25`].;\n'Project [city#125 AS city#154, to_timestamp('air_quality.timestamp, None, TimestampType, Some(Etc/UTC), false) AS timestamp#155, 'air_quality.aqi AS aqi#156, 'air_quality.pm25.v AS pm25#157, 'air_quality.pm10.v AS pm10#158, 'air_quality.co.v AS co#159, 'air_quality.no2.v AS no2#160, 'air_quality.so2.v AS so2#161, 'air_quality.o3.v AS o3#162]\n+- Project [city#67 AS city#125, to_timestamp(air_quality#66.timestamp, None, TimestampType, Some(Etc/UTC), false) AS timestamp#126, air_quality#66.aqi AS aqi#127L, air_quality#66.pm25 AS pm25#128L, air_quality#66.pm10 AS pm10#129]\n   +- Relation [air_quality#66,city#67,weather#68] json\n",
          "traceback": [
            "\u001b[0;31m---------------------------------------------------------------------------\u001b[0m",
            "\u001b[0;31mAnalysisException\u001b[0m                         Traceback (most recent call last)",
            "\u001b[0;32m<ipython-input-36-49307ca0634e>\u001b[0m in \u001b[0;36m<cell line: 0>\u001b[0;34m()\u001b[0m\n\u001b[1;32m      3\u001b[0m \u001b[0;34m\u001b[0m\u001b[0m\n\u001b[1;32m      4\u001b[0m \u001b[0;31m# Sélection et renommage des colonnes utiles\u001b[0m\u001b[0;34m\u001b[0m\u001b[0;34m\u001b[0m\u001b[0m\n\u001b[0;32m----> 5\u001b[0;31m df = df.select(\n\u001b[0m\u001b[1;32m      6\u001b[0m     \u001b[0mcol\u001b[0m\u001b[0;34m(\u001b[0m\u001b[0;34m\"city\"\u001b[0m\u001b[0;34m)\u001b[0m\u001b[0;34m.\u001b[0m\u001b[0malias\u001b[0m\u001b[0;34m(\u001b[0m\u001b[0;34m\"city\"\u001b[0m\u001b[0;34m)\u001b[0m\u001b[0;34m,\u001b[0m\u001b[0;34m\u001b[0m\u001b[0;34m\u001b[0m\u001b[0m\n\u001b[1;32m      7\u001b[0m     \u001b[0mto_timestamp\u001b[0m\u001b[0;34m(\u001b[0m\u001b[0mcol\u001b[0m\u001b[0;34m(\u001b[0m\u001b[0;34m\"air_quality.timestamp\"\u001b[0m\u001b[0;34m)\u001b[0m\u001b[0;34m)\u001b[0m\u001b[0;34m.\u001b[0m\u001b[0malias\u001b[0m\u001b[0;34m(\u001b[0m\u001b[0;34m\"timestamp\"\u001b[0m\u001b[0;34m)\u001b[0m\u001b[0;34m,\u001b[0m\u001b[0;34m\u001b[0m\u001b[0;34m\u001b[0m\u001b[0m\n",
            "\u001b[0;32m/usr/local/lib/python3.11/dist-packages/pyspark/sql/dataframe.py\u001b[0m in \u001b[0;36mselect\u001b[0;34m(self, *cols)\u001b[0m\n\u001b[1;32m   3227\u001b[0m         \u001b[0;34m+\u001b[0m\u001b[0;34m-\u001b[0m\u001b[0;34m-\u001b[0m\u001b[0;34m-\u001b[0m\u001b[0;34m-\u001b[0m\u001b[0;34m-\u001b[0m\u001b[0;34m+\u001b[0m\u001b[0;34m-\u001b[0m\u001b[0;34m-\u001b[0m\u001b[0;34m-\u001b[0m\u001b[0;34m+\u001b[0m\u001b[0;34m\u001b[0m\u001b[0;34m\u001b[0m\u001b[0m\n\u001b[1;32m   3228\u001b[0m         \"\"\"\n\u001b[0;32m-> 3229\u001b[0;31m         \u001b[0mjdf\u001b[0m \u001b[0;34m=\u001b[0m \u001b[0mself\u001b[0m\u001b[0;34m.\u001b[0m\u001b[0m_jdf\u001b[0m\u001b[0;34m.\u001b[0m\u001b[0mselect\u001b[0m\u001b[0;34m(\u001b[0m\u001b[0mself\u001b[0m\u001b[0;34m.\u001b[0m\u001b[0m_jcols\u001b[0m\u001b[0;34m(\u001b[0m\u001b[0;34m*\u001b[0m\u001b[0mcols\u001b[0m\u001b[0;34m)\u001b[0m\u001b[0;34m)\u001b[0m\u001b[0;34m\u001b[0m\u001b[0;34m\u001b[0m\u001b[0m\n\u001b[0m\u001b[1;32m   3230\u001b[0m         \u001b[0;32mreturn\u001b[0m \u001b[0mDataFrame\u001b[0m\u001b[0;34m(\u001b[0m\u001b[0mjdf\u001b[0m\u001b[0;34m,\u001b[0m \u001b[0mself\u001b[0m\u001b[0;34m.\u001b[0m\u001b[0msparkSession\u001b[0m\u001b[0;34m)\u001b[0m\u001b[0;34m\u001b[0m\u001b[0;34m\u001b[0m\u001b[0m\n\u001b[1;32m   3231\u001b[0m \u001b[0;34m\u001b[0m\u001b[0m\n",
            "\u001b[0;32m/usr/local/lib/python3.11/dist-packages/py4j/java_gateway.py\u001b[0m in \u001b[0;36m__call__\u001b[0;34m(self, *args)\u001b[0m\n\u001b[1;32m   1320\u001b[0m \u001b[0;34m\u001b[0m\u001b[0m\n\u001b[1;32m   1321\u001b[0m         \u001b[0manswer\u001b[0m \u001b[0;34m=\u001b[0m \u001b[0mself\u001b[0m\u001b[0;34m.\u001b[0m\u001b[0mgateway_client\u001b[0m\u001b[0;34m.\u001b[0m\u001b[0msend_command\u001b[0m\u001b[0;34m(\u001b[0m\u001b[0mcommand\u001b[0m\u001b[0;34m)\u001b[0m\u001b[0;34m\u001b[0m\u001b[0;34m\u001b[0m\u001b[0m\n\u001b[0;32m-> 1322\u001b[0;31m         return_value = get_return_value(\n\u001b[0m\u001b[1;32m   1323\u001b[0m             answer, self.gateway_client, self.target_id, self.name)\n\u001b[1;32m   1324\u001b[0m \u001b[0;34m\u001b[0m\u001b[0m\n",
            "\u001b[0;32m/usr/local/lib/python3.11/dist-packages/pyspark/errors/exceptions/captured.py\u001b[0m in \u001b[0;36mdeco\u001b[0;34m(*a, **kw)\u001b[0m\n\u001b[1;32m    183\u001b[0m                 \u001b[0;31m# Hide where the exception came from that shows a non-Pythonic\u001b[0m\u001b[0;34m\u001b[0m\u001b[0;34m\u001b[0m\u001b[0m\n\u001b[1;32m    184\u001b[0m                 \u001b[0;31m# JVM exception message.\u001b[0m\u001b[0;34m\u001b[0m\u001b[0;34m\u001b[0m\u001b[0m\n\u001b[0;32m--> 185\u001b[0;31m                 \u001b[0;32mraise\u001b[0m \u001b[0mconverted\u001b[0m \u001b[0;32mfrom\u001b[0m \u001b[0;32mNone\u001b[0m\u001b[0;34m\u001b[0m\u001b[0;34m\u001b[0m\u001b[0m\n\u001b[0m\u001b[1;32m    186\u001b[0m             \u001b[0;32melse\u001b[0m\u001b[0;34m:\u001b[0m\u001b[0;34m\u001b[0m\u001b[0;34m\u001b[0m\u001b[0m\n\u001b[1;32m    187\u001b[0m                 \u001b[0;32mraise\u001b[0m\u001b[0;34m\u001b[0m\u001b[0;34m\u001b[0m\u001b[0m\n",
            "\u001b[0;31mAnalysisException\u001b[0m: [UNRESOLVED_COLUMN.WITH_SUGGESTION] A column or function parameter with name `air_quality`.`timestamp` cannot be resolved. Did you mean one of the following? [`timestamp`, `city`, `aqi`, `pm10`, `pm25`].;\n'Project [city#125 AS city#154, to_timestamp('air_quality.timestamp, None, TimestampType, Some(Etc/UTC), false) AS timestamp#155, 'air_quality.aqi AS aqi#156, 'air_quality.pm25.v AS pm25#157, 'air_quality.pm10.v AS pm10#158, 'air_quality.co.v AS co#159, 'air_quality.no2.v AS no2#160, 'air_quality.so2.v AS so2#161, 'air_quality.o3.v AS o3#162]\n+- Project [city#67 AS city#125, to_timestamp(air_quality#66.timestamp, None, TimestampType, Some(Etc/UTC), false) AS timestamp#126, air_quality#66.aqi AS aqi#127L, air_quality#66.pm25 AS pm25#128L, air_quality#66.pm10 AS pm10#129]\n   +- Relation [air_quality#66,city#67,weather#68] json\n"
          ]
        }
      ]
    },
    {
      "cell_type": "code",
      "source": [
        "from pyspark.sql import SparkSession\n",
        "from pyspark.sql.functions import col, to_timestamp, round, expr, when\n",
        "\n",
        "# Fusion des données via une jointure sur la ville\n",
        "df_final = df.join(df1, [\"city\"], \"inner\")\n",
        "\n",
        "# Affichage des 7 premières lignes\n",
        "df_final.show(7)\n"
      ],
      "metadata": {
        "colab": {
          "base_uri": "https://localhost:8080/"
        },
        "id": "9SiA48wmoXZS",
        "outputId": "2c5c698f-5a11-4697-d5cf-d82e7619abea"
      },
      "execution_count": null,
      "outputs": [
        {
          "output_type": "stream",
          "name": "stdout",
          "text": [
            "+--------+----------------------+--------------------+----------------------+--------------------+\n",
            "|    city|           air_quality|             weather|           air_quality|             weather|\n",
            "+--------+----------------------+--------------------+----------------------+--------------------+\n",
            "|   Paris|  {62, Paris, 0.1, ...|{Paris, 39, 1020,...|  {62, Paris, 0.1, ...|{Paris, 39, 1020,...|\n",
            "|New York|  {15, New York, N/...|{New York, 61, 10...|  {15, New York, N/...|{New York, 61, 10...|\n",
            "|   Tokyo|{26, Meguro (目黒),...|{Tokyo, 92, 1021,...|{26, Meguro (目黒),...|{Tokyo, 92, 1021,...|\n",
            "|  London|  {31, London, 2.2,...|{London, 48, 1025...|  {31, London, 2.2,...|{London, 48, 1025...|\n",
            "|  Berlin|  {30, Berlin, Germ...|{Berlin, 52, 1028...|  {30, Berlin, Germ...|{Berlin, 52, 1028...|\n",
            "+--------+----------------------+--------------------+----------------------+--------------------+\n",
            "\n"
          ]
        }
      ]
    },
    {
      "cell_type": "code",
      "source": [
        "from pyspark.sql import SparkSession\n",
        "from pyspark.sql.functions import col, to_timestamp, round, expr, when\n",
        "df_final = df_final.withColumn(\n",
        "    \"alert\",\n",
        "    when(col(\"aqi\") > 150, \"Danger\")\n",
        "    .when(col(\"aqi\") > 100, \"Mauvais\")\n",
        "    .when(col(\"aqi\") > 50, \"Modéré\")\n",
        "    .otherwise(\"Bon\")\n",
        ")"
      ],
      "metadata": {
        "colab": {
          "base_uri": "https://localhost:8080/",
          "height": 497
        },
        "id": "ehfvo8jFo12C",
        "outputId": "830a3ee3-ddbf-4fa8-fcc7-681d824920c1"
      },
      "execution_count": null,
      "outputs": [
        {
          "output_type": "error",
          "ename": "AnalysisException",
          "evalue": "[UNRESOLVED_COLUMN.WITH_SUGGESTION] A column or function parameter with name `aqi` cannot be resolved. Did you mean one of the following? [`city`, `weather`, `weather`, `air_quality`, `air_quality`].;\n'Project [city#67, air_quality#66, weather#68, air_quality#29, weather#31, CASE WHEN ('aqi > 150) THEN Danger WHEN ('aqi > 100) THEN Mauvais WHEN ('aqi > 50) THEN Modéré ELSE Bon END AS alert#113]\n+- Project [city#67, air_quality#66, weather#68, air_quality#29, weather#31]\n   +- Join Inner, (city#67 = city#30)\n      :- Relation [air_quality#66,city#67,weather#68] json\n      +- Relation [air_quality#29,city#30,weather#31] json\n",
          "traceback": [
            "\u001b[0;31m---------------------------------------------------------------------------\u001b[0m",
            "\u001b[0;31mAnalysisException\u001b[0m                         Traceback (most recent call last)",
            "\u001b[0;32m<ipython-input-29-2512b4d5b3de>\u001b[0m in \u001b[0;36m<cell line: 0>\u001b[0;34m()\u001b[0m\n\u001b[1;32m      1\u001b[0m \u001b[0;32mfrom\u001b[0m \u001b[0mpyspark\u001b[0m\u001b[0;34m.\u001b[0m\u001b[0msql\u001b[0m \u001b[0;32mimport\u001b[0m \u001b[0mSparkSession\u001b[0m\u001b[0;34m\u001b[0m\u001b[0;34m\u001b[0m\u001b[0m\n\u001b[1;32m      2\u001b[0m \u001b[0;32mfrom\u001b[0m \u001b[0mpyspark\u001b[0m\u001b[0;34m.\u001b[0m\u001b[0msql\u001b[0m\u001b[0;34m.\u001b[0m\u001b[0mfunctions\u001b[0m \u001b[0;32mimport\u001b[0m \u001b[0mcol\u001b[0m\u001b[0;34m,\u001b[0m \u001b[0mto_timestamp\u001b[0m\u001b[0;34m,\u001b[0m \u001b[0mround\u001b[0m\u001b[0;34m,\u001b[0m \u001b[0mexpr\u001b[0m\u001b[0;34m,\u001b[0m \u001b[0mwhen\u001b[0m\u001b[0;34m\u001b[0m\u001b[0;34m\u001b[0m\u001b[0m\n\u001b[0;32m----> 3\u001b[0;31m df_final = df_final.withColumn(\n\u001b[0m\u001b[1;32m      4\u001b[0m     \u001b[0;34m\"alert\"\u001b[0m\u001b[0;34m,\u001b[0m\u001b[0;34m\u001b[0m\u001b[0;34m\u001b[0m\u001b[0m\n\u001b[1;32m      5\u001b[0m     \u001b[0mwhen\u001b[0m\u001b[0;34m(\u001b[0m\u001b[0mcol\u001b[0m\u001b[0;34m(\u001b[0m\u001b[0;34m\"aqi\"\u001b[0m\u001b[0;34m)\u001b[0m \u001b[0;34m>\u001b[0m \u001b[0;36m150\u001b[0m\u001b[0;34m,\u001b[0m \u001b[0;34m\"Danger\"\u001b[0m\u001b[0;34m)\u001b[0m\u001b[0;34m\u001b[0m\u001b[0;34m\u001b[0m\u001b[0m\n",
            "\u001b[0;32m/usr/local/lib/python3.11/dist-packages/pyspark/sql/dataframe.py\u001b[0m in \u001b[0;36mwithColumn\u001b[0;34m(self, colName, col)\u001b[0m\n\u001b[1;32m   5174\u001b[0m                 \u001b[0mmessage_parameters\u001b[0m\u001b[0;34m=\u001b[0m\u001b[0;34m{\u001b[0m\u001b[0;34m\"arg_name\"\u001b[0m\u001b[0;34m:\u001b[0m \u001b[0;34m\"col\"\u001b[0m\u001b[0;34m,\u001b[0m \u001b[0;34m\"arg_type\"\u001b[0m\u001b[0;34m:\u001b[0m \u001b[0mtype\u001b[0m\u001b[0;34m(\u001b[0m\u001b[0mcol\u001b[0m\u001b[0;34m)\u001b[0m\u001b[0;34m.\u001b[0m\u001b[0m__name__\u001b[0m\u001b[0;34m}\u001b[0m\u001b[0;34m,\u001b[0m\u001b[0;34m\u001b[0m\u001b[0;34m\u001b[0m\u001b[0m\n\u001b[1;32m   5175\u001b[0m             )\n\u001b[0;32m-> 5176\u001b[0;31m         \u001b[0;32mreturn\u001b[0m \u001b[0mDataFrame\u001b[0m\u001b[0;34m(\u001b[0m\u001b[0mself\u001b[0m\u001b[0;34m.\u001b[0m\u001b[0m_jdf\u001b[0m\u001b[0;34m.\u001b[0m\u001b[0mwithColumn\u001b[0m\u001b[0;34m(\u001b[0m\u001b[0mcolName\u001b[0m\u001b[0;34m,\u001b[0m \u001b[0mcol\u001b[0m\u001b[0;34m.\u001b[0m\u001b[0m_jc\u001b[0m\u001b[0;34m)\u001b[0m\u001b[0;34m,\u001b[0m \u001b[0mself\u001b[0m\u001b[0;34m.\u001b[0m\u001b[0msparkSession\u001b[0m\u001b[0;34m)\u001b[0m\u001b[0;34m\u001b[0m\u001b[0;34m\u001b[0m\u001b[0m\n\u001b[0m\u001b[1;32m   5177\u001b[0m \u001b[0;34m\u001b[0m\u001b[0m\n\u001b[1;32m   5178\u001b[0m     \u001b[0;32mdef\u001b[0m \u001b[0mwithColumnRenamed\u001b[0m\u001b[0;34m(\u001b[0m\u001b[0mself\u001b[0m\u001b[0;34m,\u001b[0m \u001b[0mexisting\u001b[0m\u001b[0;34m:\u001b[0m \u001b[0mstr\u001b[0m\u001b[0;34m,\u001b[0m \u001b[0mnew\u001b[0m\u001b[0;34m:\u001b[0m \u001b[0mstr\u001b[0m\u001b[0;34m)\u001b[0m \u001b[0;34m->\u001b[0m \u001b[0;34m\"DataFrame\"\u001b[0m\u001b[0;34m:\u001b[0m\u001b[0;34m\u001b[0m\u001b[0;34m\u001b[0m\u001b[0m\n",
            "\u001b[0;32m/usr/local/lib/python3.11/dist-packages/py4j/java_gateway.py\u001b[0m in \u001b[0;36m__call__\u001b[0;34m(self, *args)\u001b[0m\n\u001b[1;32m   1320\u001b[0m \u001b[0;34m\u001b[0m\u001b[0m\n\u001b[1;32m   1321\u001b[0m         \u001b[0manswer\u001b[0m \u001b[0;34m=\u001b[0m \u001b[0mself\u001b[0m\u001b[0;34m.\u001b[0m\u001b[0mgateway_client\u001b[0m\u001b[0;34m.\u001b[0m\u001b[0msend_command\u001b[0m\u001b[0;34m(\u001b[0m\u001b[0mcommand\u001b[0m\u001b[0;34m)\u001b[0m\u001b[0;34m\u001b[0m\u001b[0;34m\u001b[0m\u001b[0m\n\u001b[0;32m-> 1322\u001b[0;31m         return_value = get_return_value(\n\u001b[0m\u001b[1;32m   1323\u001b[0m             answer, self.gateway_client, self.target_id, self.name)\n\u001b[1;32m   1324\u001b[0m \u001b[0;34m\u001b[0m\u001b[0m\n",
            "\u001b[0;32m/usr/local/lib/python3.11/dist-packages/pyspark/errors/exceptions/captured.py\u001b[0m in \u001b[0;36mdeco\u001b[0;34m(*a, **kw)\u001b[0m\n\u001b[1;32m    183\u001b[0m                 \u001b[0;31m# Hide where the exception came from that shows a non-Pythonic\u001b[0m\u001b[0;34m\u001b[0m\u001b[0;34m\u001b[0m\u001b[0m\n\u001b[1;32m    184\u001b[0m                 \u001b[0;31m# JVM exception message.\u001b[0m\u001b[0;34m\u001b[0m\u001b[0;34m\u001b[0m\u001b[0m\n\u001b[0;32m--> 185\u001b[0;31m                 \u001b[0;32mraise\u001b[0m \u001b[0mconverted\u001b[0m \u001b[0;32mfrom\u001b[0m \u001b[0;32mNone\u001b[0m\u001b[0;34m\u001b[0m\u001b[0;34m\u001b[0m\u001b[0m\n\u001b[0m\u001b[1;32m    186\u001b[0m             \u001b[0;32melse\u001b[0m\u001b[0;34m:\u001b[0m\u001b[0;34m\u001b[0m\u001b[0;34m\u001b[0m\u001b[0m\n\u001b[1;32m    187\u001b[0m                 \u001b[0;32mraise\u001b[0m\u001b[0;34m\u001b[0m\u001b[0;34m\u001b[0m\u001b[0m\n",
            "\u001b[0;31mAnalysisException\u001b[0m: [UNRESOLVED_COLUMN.WITH_SUGGESTION] A column or function parameter with name `aqi` cannot be resolved. Did you mean one of the following? [`city`, `weather`, `weather`, `air_quality`, `air_quality`].;\n'Project [city#67, air_quality#66, weather#68, air_quality#29, weather#31, CASE WHEN ('aqi > 150) THEN Danger WHEN ('aqi > 100) THEN Mauvais WHEN ('aqi > 50) THEN Modéré ELSE Bon END AS alert#113]\n+- Project [city#67, air_quality#66, weather#68, air_quality#29, weather#31]\n   +- Join Inner, (city#67 = city#30)\n      :- Relation [air_quality#66,city#67,weather#68] json\n      +- Relation [air_quality#29,city#30,weather#31] json\n"
          ]
        }
      ]
    }
  ]
}